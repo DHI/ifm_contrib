{
 "cells": [
  {
   "cell_type": "markdown",
   "metadata": {},
   "source": [
    "# New Features in FEFLOW 7.4 API\n",
    "\n",
    "*contact: are@dhigroup.com*\n",
    "\n",
    "This document gives a preview on new FEFLOW IFM API features for discussion."
   ]
  },
  {
   "cell_type": "code",
   "execution_count": 1,
   "metadata": {},
   "outputs": [
    {
     "name": "stdout",
     "output_type": "stream",
     "text": [
      "FEFLOW 7.352, build 18841\n"
     ]
    }
   ],
   "source": [
    "import os\n",
    "import sys\n",
    "import pandas as pd\n",
    "\n",
    "import matplotlib.pyplot as plt\n",
    "\n",
    "os.environ[\"FEFLOW_KERNEL_VERSION\"] = \"74\"  # requires FEFLOW 7.4 API\n",
    "import ifm_contrib as ifm\n",
    "\n",
    "#ifm.forceLicense(\"Viewer\")\n",
    "\n",
    "print(f\"FEFLOW {ifm.getKernelVersion()/1000}, build {ifm.getKernelRevision()}\")"
   ]
  },
  {
   "cell_type": "code",
   "execution_count": 2,
   "metadata": {},
   "outputs": [],
   "source": [
    "# load an example\n",
    "doc = ifm.loadDocument(\"../../unittests/models/example_2D.dac\")"
   ]
  },
  {
   "cell_type": "markdown",
   "metadata": {},
   "source": [
    "## Selection API\n",
    "\n",
    "From FEFLOW 7.4, `getSelectionItems` and `setSelectionItems` allows to **manipulate selections in a pythonic way using native Python lists**. A new functionality is to **get/set the charting mode** for nodal (budgets) and elemental (content) selections."
   ]
  },
  {
   "cell_type": "code",
   "execution_count": 3,
   "metadata": {},
   "outputs": [
    {
     "data": {
      "text/html": [
       "<div>\n",
       "<style scoped>\n",
       "    .dataframe tbody tr th:only-of-type {\n",
       "        vertical-align: middle;\n",
       "    }\n",
       "\n",
       "    .dataframe tbody tr th {\n",
       "        vertical-align: top;\n",
       "    }\n",
       "\n",
       "    .dataframe thead th {\n",
       "        text-align: right;\n",
       "    }\n",
       "</style>\n",
       "<table border=\"1\" class=\"dataframe\">\n",
       "  <thead>\n",
       "    <tr style=\"text-align: right;\">\n",
       "      <th></th>\n",
       "      <th>SEL_TYPE</th>\n",
       "      <th>SEL_ENUM</th>\n",
       "      <th>SEL_ID</th>\n",
       "      <th>N_ITEMS</th>\n",
       "    </tr>\n",
       "    <tr>\n",
       "      <th>selection_name</th>\n",
       "      <th></th>\n",
       "      <th></th>\n",
       "      <th></th>\n",
       "      <th></th>\n",
       "    </tr>\n",
       "  </thead>\n",
       "  <tbody>\n",
       "    <tr>\n",
       "      <th>west</th>\n",
       "      <td>nodes</td>\n",
       "      <td>0</td>\n",
       "      <td>0</td>\n",
       "      <td>20.0</td>\n",
       "    </tr>\n",
       "    <tr>\n",
       "      <th>east</th>\n",
       "      <td>nodes</td>\n",
       "      <td>0</td>\n",
       "      <td>1</td>\n",
       "      <td>12.0</td>\n",
       "    </tr>\n",
       "    <tr>\n",
       "      <th>abstraction_rate</th>\n",
       "      <td>nodes</td>\n",
       "      <td>0</td>\n",
       "      <td>2</td>\n",
       "      <td>2.0</td>\n",
       "    </tr>\n",
       "    <tr>\n",
       "      <th>upper_half</th>\n",
       "      <td>elements</td>\n",
       "      <td>1</td>\n",
       "      <td>0</td>\n",
       "      <td>420.0</td>\n",
       "    </tr>\n",
       "    <tr>\n",
       "      <th>conversiontest_el</th>\n",
       "      <td>elements</td>\n",
       "      <td>1</td>\n",
       "      <td>1</td>\n",
       "      <td>2.0</td>\n",
       "    </tr>\n",
       "  </tbody>\n",
       "</table>\n",
       "</div>"
      ],
      "text/plain": [
       "                   SEL_TYPE  SEL_ENUM SEL_ID  N_ITEMS\n",
       "selection_name                                       \n",
       "west                  nodes         0      0     20.0\n",
       "east                  nodes         0      1     12.0\n",
       "abstraction_rate      nodes         0      2      2.0\n",
       "upper_half         elements         1      0    420.0\n",
       "conversiontest_el  elements         1      1      2.0"
      ]
     },
     "execution_count": 3,
     "metadata": {},
     "output_type": "execute_result"
    }
   ],
   "source": [
    "# give an overview of the available selections.\n",
    "doc.c.sel.df.selections()"
   ]
  },
  {
   "cell_type": "markdown",
   "metadata": {},
   "source": [
    "### Get/Set Item Lists\n",
    "\n",
    "**get selection items**"
   ]
  },
  {
   "cell_type": "code",
   "execution_count": 4,
   "metadata": {},
   "outputs": [
    {
     "data": {
      "text/plain": [
       "[0, 1, 2, 3, 4, 5, 6, 7, 8, 9, 10, 11, 12, 13, 14, 15, 16, 17, 18, 19]"
      ]
     },
     "execution_count": 4,
     "metadata": {},
     "output_type": "execute_result"
    }
   ],
   "source": [
    "# retrieve item sets as python lists\n",
    "doc.getSelectionItems(ifm.Enum.SEL_NODES, 0)"
   ]
  },
  {
   "cell_type": "code",
   "execution_count": 5,
   "metadata": {},
   "outputs": [
    {
     "data": {
      "text/plain": [
       "[0, 1, 2, 3, 4, 5, 6, 7, 8, 9, 10, 11, 12, 13, 14, 15, 16, 17, 18, 19]"
      ]
     },
     "execution_count": 5,
     "metadata": {},
     "output_type": "execute_result"
    }
   ],
   "source": [
    "# same call, but adressing the selection by its name instead of its ID makes the call more readable\n",
    "doc.getSelectionItems(ifm.Enum.SEL_NODES, \"west\")"
   ]
  },
  {
   "cell_type": "markdown",
   "metadata": {},
   "source": [
    "**set selection items**"
   ]
  },
  {
   "cell_type": "code",
   "execution_count": 6,
   "metadata": {},
   "outputs": [],
   "source": [
    "# updating the selection can occur in the same way\n",
    "doc.setSelectionItems(ifm.Enum.SEL_NODES, \"west\", [0,1,2])"
   ]
  },
  {
   "cell_type": "markdown",
   "metadata": {},
   "source": [
    "**Performing Operations during Set**\n",
    "\n",
    "On saving, the following operations can be performed:\n",
    "\n",
    "doc.setSelectionItems(ifm.Enum.SEL_NODES, \"west\", [0,1,2], SEL_OP)\n",
    "\n",
    "  \n",
    "      ifm.Enum.SOP_SET        = 0, /* Set selection */\n",
    "      ifm.Enum.SOP_INTERSECT  = 1, /* Intersect selection */\n",
    "      ifm.Enum.SOP_UNION      = 2, /* Union selection */\n",
    "      ifm.Enum.SOP_SUBTRACT   = 3 /* Subtract selection */\n"
   ]
  },
  {
   "cell_type": "code",
   "execution_count": 7,
   "metadata": {},
   "outputs": [],
   "source": [
    "doc.setSelectionItems(ifm.Enum.SEL_NODES, \"west\", [0,1,2], ifm.Enum.SOP_INTERSECT)"
   ]
  },
  {
   "cell_type": "markdown",
   "metadata": {},
   "source": [
    "**Writing to Current Selection**\n",
    "\n",
    "Use an empty string `\"\"` to access current selection."
   ]
  },
  {
   "cell_type": "code",
   "execution_count": null,
   "metadata": {},
   "outputs": [],
   "source": [
    "doc.setSelectionItems(ifm.Enum.SEL_NODES, \"\", [0,1,2], ifm.Enum.SOP_UNION)  # add these nodes to current nodal selection"
   ]
  },
  {
   "cell_type": "markdown",
   "metadata": {},
   "source": [
    "<div class=\"alert alert-block alert-danger\">\n",
    "    Assign to Current Selection works different\n",
    "</div>"
   ]
  },
  {
   "cell_type": "markdown",
   "metadata": {},
   "source": [
    "### Set Budget / Content Charting Mode of Selections\n",
    "\n",
    "It is now possible to set the budget and content charting modes of nodal and elemental selections, respectively."
   ]
  },
  {
   "cell_type": "code",
   "execution_count": 10,
   "metadata": {},
   "outputs": [
    {
     "data": {
      "text/plain": [
       "16"
      ]
     },
     "execution_count": 10,
     "metadata": {},
     "output_type": "execute_result"
    }
   ],
   "source": [
    "# retrieve the budget charting state of a nodal selection:\n",
    "doc.getDiagramBudgetMode(\"west\")"
   ]
  },
  {
   "cell_type": "code",
   "execution_count": 11,
   "metadata": {},
   "outputs": [
    {
     "data": {
      "text/plain": [
       "0"
      ]
     },
     "execution_count": 11,
     "metadata": {},
     "output_type": "execute_result"
    }
   ],
   "source": [
    "# retrieve the content charting state of a nodal selection:\n",
    "doc.getDiagramContentType(\"upper_half\")"
   ]
  },
  {
   "cell_type": "markdown",
   "metadata": {},
   "source": [
    "The result corresponds to constants with prefix `DGR_` from the `ifm.Enum` object:"
   ]
  },
  {
   "cell_type": "code",
   "execution_count": 12,
   "metadata": {},
   "outputs": [
    {
     "data": {
      "text/plain": [
       "{'DGR_BUDGET_BOUNDARY': 16,\n",
       " 'DGR_BUDGET_BULK': 19,\n",
       " 'DGR_BUDGET_INVALID': -1,\n",
       " 'DGR_BUDGET_NET': 37,\n",
       " 'DGR_BUDGET_NONE': 0,\n",
       " 'DGR_BUDGET_STORAGE': 28,\n",
       " 'DGR_BUDGET_TOTAL': 25,\n",
       " 'DGR_CONTENT_ENERGY_FLUID': 131072,\n",
       " 'DGR_CONTENT_ENERGY_SOLID': 262144,\n",
       " 'DGR_CONTENT_ENERGY_TOTAL': 524288,\n",
       " 'DGR_CONTENT_INVALID': -1,\n",
       " 'DGR_CONTENT_MASS_ABSORBED': 4096,\n",
       " 'DGR_CONTENT_MASS_AGE_DISSOLVED': 512,\n",
       " 'DGR_CONTENT_MASS_DISSOLVED': 64,\n",
       " 'DGR_CONTENT_MASS_EP_DISSOLVED': 256,\n",
       " 'DGR_CONTENT_MASS_EQUIL_ABSORBED': 128,\n",
       " 'DGR_CONTENT_MASS_LTE_DISSOLVED': 1024,\n",
       " 'DGR_CONTENT_NONE': 0,\n",
       " 'DGR_CONTENT_VOLUME_FLUID': 4,\n",
       " 'DGR_CONTENT_VOLUME_FLUID_HEAT': 32768,\n",
       " 'DGR_CONTENT_VOLUME_FLUID_SPECIES': 32,\n",
       " 'DGR_CONTENT_VOLUME_SOLID_HEAT': 65536,\n",
       " 'DGR_CONTENT_VOLUME_SOLID_SPECIES': 2048,\n",
       " 'DGR_CONTENT_VOLUME_TOTAL': 1,\n",
       " 'DGR_CONTENT_VOLUME_TOTAL_HEAT': 8192,\n",
       " 'DGR_CONTENT_VOLUME_TOTAL_SPECIES': 8,\n",
       " 'DGR_CONTENT_VOLUME_VOID': 2,\n",
       " 'DGR_CONTENT_VOLUME_VOID_HEAT': 16384,\n",
       " 'DGR_CONTENT_VOLUME_VOID_SPECIES': 16}"
      ]
     },
     "execution_count": 12,
     "metadata": {},
     "output_type": "execute_result"
    }
   ],
   "source": [
    "# list the relevant constants\n",
    "{c: eval(\"ifm.Enum.{}\".format(c)) for c in dir(ifm.Enum) if c.startswith(\"DGR_\")}"
   ]
  },
  {
   "cell_type": "markdown",
   "metadata": {},
   "source": [
    "**Setting the charting mode**"
   ]
  },
  {
   "cell_type": "code",
   "execution_count": 13,
   "metadata": {},
   "outputs": [],
   "source": [
    "# set the diagram charting mode\n",
    "doc.pdoc.setDiagramBudgetMode(\"east\", ifm.Enum.DGR_BUDGET_STORAGE)\n",
    "doc.pdoc.setDiagramContentType(\"upper_half\", ifm.Enum.DGR_CONTENT_VOLUME_FLUID)"
   ]
  },
  {
   "cell_type": "markdown",
   "metadata": {},
   "source": [
    "Some history charts that were previously missing have been made available:"
   ]
  },
  {
   "cell_type": "code",
   "execution_count": 14,
   "metadata": {},
   "outputs": [
    {
     "data": {
      "text/plain": [
       "{'HIST_CONTENT_AGE': 29,\n",
       " 'HIST_CONTENT_ENERGY': 30,\n",
       " 'HIST_CONTENT_EP': 28,\n",
       " 'HIST_CONTENT_HEAT': 26,\n",
       " 'HIST_CONTENT_MASS': 27,\n",
       " 'HIST_CONTENT_VOLUME': 24,\n",
       " 'HIST_CONTENT_VOLUME_MASS': 25}"
      ]
     },
     "execution_count": 14,
     "metadata": {},
     "output_type": "execute_result"
    }
   ],
   "source": [
    "# history-charts: content\n",
    "{c: eval(\"ifm.Enum.{}\".format(c)) for c in dir(ifm.Enum) if c.startswith(\"HIST_CONTENT_\")}"
   ]
  },
  {
   "cell_type": "markdown",
   "metadata": {},
   "source": [
    "## Improvement to Vectorized Access to Parameters\n",
    "\n",
    "### improved access to parameters by ID and SubId\n",
    "\n",
    "Vectorized access to Parameter Values can now be done in a more human-readable fashion, using the classisc Parameter ID supplemented with a sub-id. This allows access to user distributions, auxillary properties and species-related properties.\n",
    "\n",
    "**Auxillary Properties**"
   ]
  },
  {
   "cell_type": "code",
   "execution_count": 15,
   "metadata": {},
   "outputs": [
    {
     "name": "stdout",
     "output_type": "stream",
     "text": [
      "auxAquiferThickness: out of scope!\n",
      "auxAspectRatio: ok!\n",
      "auxAspectRatioBeta: out of scope!\n",
      "auxAspectRatioGamma: out of scope!\n",
      "auxCFLCondition: out of scope!\n",
      "auxConditionNumber: ok!\n",
      "auxCourantNumber: out of scope!\n",
      "auxDelaunayViolatingTriangles: ok!\n",
      "auxElementalVolumes: ok!\n",
      "auxElementDiameter: ok!\n",
      "auxLayerThickness: out of scope!\n",
      "auxMaxDihedralAngles: out of scope!\n",
      "auxMinDihedralAngles: out of scope!\n",
      "auxPecletNumber: out of scope!\n",
      "auxPseudoSat: out of scope!\n",
      "auxQuadrangleMaxAngles: ok!\n",
      "auxRelPerm: out of scope!\n",
      "auxSquishIndex: out of scope!\n",
      "auxTriangleMaxAngles: ok!\n"
     ]
    }
   ],
   "source": [
    "auxID_E = [\n",
    "'auxAquiferThickness',\n",
    "'auxAspectRatio',\n",
    "'auxAspectRatioBeta',\n",
    "'auxAspectRatioGamma',\n",
    "'auxCFLCondition',\n",
    "'auxConditionNumber',\n",
    "'auxCourantNumber',\n",
    "'auxDelaunayViolatingTriangles',\n",
    "'auxElementalVolumes',\n",
    "'auxElementDiameter',\n",
    "'auxLayerThickness',\n",
    "'auxMaxDihedralAngles',\n",
    "'auxMinDihedralAngles',\n",
    "'auxPecletNumber',\n",
    "'auxPseudoSat',\n",
    "'auxQuadrangleMaxAngles',\n",
    "'auxRelPerm',\n",
    "'auxSquishIndex',\n",
    "'auxTriangleMaxAngles']\n",
    "\n",
    "# test for elemental properties\n",
    "for id in auxID_E:\n",
    "    try:\n",
    "        #print(id)\n",
    "        param=doc.getParameter(ifm.Enum.P_AUXDIST_E, id)\n",
    "        if param != None:\n",
    "            v = doc.getParamValues(param)\n",
    "            print(id + ': ok!')\n",
    "        else:\n",
    "            print(id + ': out of scope!')\n",
    "        \n",
    "    except RuntimeError as e:\n",
    "        print(\"  \"+str(e))"
   ]
  },
  {
   "cell_type": "code",
   "execution_count": 16,
   "metadata": {},
   "outputs": [
    {
     "name": "stdout",
     "output_type": "stream",
     "text": [
      "auxNodalDensity: out of scope!\n",
      "auxNodalDepth: out of scope!\n",
      "auxNodalViscosity: out of scope!\n",
      "auxSliceDistance: out of scope!\n",
      "auxStreamFunctionBoundaryIntegral: out of scope!\n",
      "auxStreamFunctionVorticityEquation: ok!\n"
     ]
    }
   ],
   "source": [
    "auxID_N = [\n",
    "'auxNodalDensity',\n",
    "'auxNodalDepth',\n",
    "'auxNodalViscosity',\n",
    "'auxSliceDistance',\n",
    "'auxStreamFunctionBoundaryIntegral',\n",
    "'auxStreamFunctionVorticityEquation']\n",
    " \n",
    "# test for nodal properties\n",
    "for id in auxID_N:\n",
    "    try:\n",
    "        #print(id)\n",
    "        param=doc.getParameter(ifm.Enum.P_AUXDIST_N, id)\n",
    "        if param != None:\n",
    "            v = doc.getParamValues(param)\n",
    "            print(id + ': ok!')\n",
    "        else:\n",
    "            print(id + ': out of scope!')\n",
    "        \n",
    "    except RuntimeError as e:\n",
    "        print(\"  \"+str(e))"
   ]
  },
  {
   "cell_type": "markdown",
   "metadata": {},
   "source": [
    "**Multispecies-Related Properties**"
   ]
  },
  {
   "cell_type": "code",
   "execution_count": 17,
   "metadata": {},
   "outputs": [
    {
     "data": {
      "text/html": [
       "<div>\n",
       "<style scoped>\n",
       "    .dataframe tbody tr th:only-of-type {\n",
       "        vertical-align: middle;\n",
       "    }\n",
       "\n",
       "    .dataframe tbody tr th {\n",
       "        vertical-align: top;\n",
       "    }\n",
       "\n",
       "    .dataframe thead th {\n",
       "        text-align: right;\n",
       "    }\n",
       "</style>\n",
       "<table border=\"1\" class=\"dataframe\">\n",
       "  <thead>\n",
       "    <tr style=\"text-align: right;\">\n",
       "      <th></th>\n",
       "      <th>Name</th>\n",
       "      <th>Type</th>\n",
       "      <th>PhaseType</th>\n",
       "      <th>SpeciesKineticsType</th>\n",
       "    </tr>\n",
       "    <tr>\n",
       "      <th>SpeciesID</th>\n",
       "      <th></th>\n",
       "      <th></th>\n",
       "      <th></th>\n",
       "      <th></th>\n",
       "    </tr>\n",
       "  </thead>\n",
       "  <tbody>\n",
       "    <tr>\n",
       "      <th>0</th>\n",
       "      <td>Sodium</td>\n",
       "      <td>0</td>\n",
       "      <td>0</td>\n",
       "      <td>0</td>\n",
       "    </tr>\n",
       "    <tr>\n",
       "      <th>1</th>\n",
       "      <td>Potassium</td>\n",
       "      <td>0</td>\n",
       "      <td>0</td>\n",
       "      <td>0</td>\n",
       "    </tr>\n",
       "    <tr>\n",
       "      <th>2</th>\n",
       "      <td>Age1</td>\n",
       "      <td>1</td>\n",
       "      <td>0</td>\n",
       "      <td>0</td>\n",
       "    </tr>\n",
       "    <tr>\n",
       "      <th>3</th>\n",
       "      <td>LTE2</td>\n",
       "      <td>2</td>\n",
       "      <td>0</td>\n",
       "      <td>0</td>\n",
       "    </tr>\n",
       "    <tr>\n",
       "      <th>4</th>\n",
       "      <td>EP3</td>\n",
       "      <td>3</td>\n",
       "      <td>0</td>\n",
       "      <td>0</td>\n",
       "    </tr>\n",
       "  </tbody>\n",
       "</table>\n",
       "</div>"
      ],
      "text/plain": [
       "                Name  Type  PhaseType  SpeciesKineticsType\n",
       "SpeciesID                                                 \n",
       "0             Sodium     0          0                    0\n",
       "1          Potassium     0          0                    0\n",
       "2               Age1     1          0                    0\n",
       "3               LTE2     2          0                    0\n",
       "4                EP3     3          0                    0"
      ]
     },
     "execution_count": 17,
     "metadata": {},
     "output_type": "execute_result"
    }
   ],
   "source": [
    "# load multi-species example and show content (requires ifm_contrib)\n",
    "doc = ifm.loadDocument(\"../../unittests/models/example_3D_mspecies.fem\")\n",
    "doc.c.settings.df.species()"
   ]
  },
  {
   "cell_type": "code",
   "execution_count": 18,
   "metadata": {},
   "outputs": [
    {
     "data": {
      "text/plain": [
       "[0.30000001192092896,\n",
       " 0.30000001192092896,\n",
       " 0.30000001192092896,\n",
       " 0.30000001192092896,\n",
       " 0.30000001192092896]"
      ]
     },
     "execution_count": 18,
     "metadata": {},
     "output_type": "execute_result"
    }
   ],
   "source": [
    "# classic usage with parameter constant only\n",
    "doc.setMultiSpeciesId(1)\n",
    "doc.getParamValues(doc.pdoc.getParameter(ifm.Enum.P_PORO, \"Sodium\"))[:5]"
   ]
  },
  {
   "cell_type": "code",
   "execution_count": 19,
   "metadata": {},
   "outputs": [
    {
     "data": {
      "text/plain": [
       "[0.0, 0.0, 0.0, 0.0, 0.0]"
      ]
     },
     "execution_count": 19,
     "metadata": {},
     "output_type": "execute_result"
    }
   ],
   "source": [
    "# new way of adressing the contents, stateless\n",
    "doc.getParamValues((ifm.Enum.P_CONC, \"Potassium\"))[:5]"
   ]
  },
  {
   "cell_type": "code",
   "execution_count": 20,
   "metadata": {},
   "outputs": [
    {
     "data": {
      "text/plain": [
       "[0.30000001192092896,\n",
       " 0.30000001192092896,\n",
       " 0.30000001192092896,\n",
       " 0.30000001192092896,\n",
       " 0.30000001192092896]"
      ]
     },
     "execution_count": 20,
     "metadata": {},
     "output_type": "execute_result"
    }
   ],
   "source": [
    "# alternative syntax - getting parameter object first improves speed of many iterations are to be performed\n",
    "par = doc.getParameter(ifm.Enum.P_PORO, \"Sodium\") # get the parameter as an object\n",
    "doc.getParamValues(par)[:5]  # use the object as argument"
   ]
  },
  {
   "cell_type": "code",
   "execution_count": 21,
   "metadata": {},
   "outputs": [
    {
     "data": {
      "text/plain": [
       "[0.30000001192092896,\n",
       " 0.30000001192092896,\n",
       " 0.30000001192092896,\n",
       " 0.30000001192092896,\n",
       " 0.30000001192092896]"
      ]
     },
     "execution_count": 21,
     "metadata": {},
     "output_type": "execute_result"
    }
   ],
   "source": [
    "# alternative syntax - more concise but slower if many loops are required\n",
    "doc.pdoc.getParamValues((ifm.Enum.P_PORO, \"Sodium\"))[:5]"
   ]
  },
  {
   "cell_type": "markdown",
   "metadata": {},
   "source": [
    "**User Distributions and Expressions**\n",
    "\n",
    "Stateless vectorized access to user distributions."
   ]
  },
  {
   "cell_type": "code",
   "execution_count": 22,
   "metadata": {},
   "outputs": [
    {
     "data": {
      "text/html": [
       "<div>\n",
       "<style scoped>\n",
       "    .dataframe tbody tr th:only-of-type {\n",
       "        vertical-align: middle;\n",
       "    }\n",
       "\n",
       "    .dataframe tbody tr th {\n",
       "        vertical-align: top;\n",
       "    }\n",
       "\n",
       "    .dataframe thead th {\n",
       "        text-align: right;\n",
       "    }\n",
       "</style>\n",
       "<table border=\"1\" class=\"dataframe\">\n",
       "  <thead>\n",
       "    <tr style=\"text-align: right;\">\n",
       "      <th></th>\n",
       "      <th>Name</th>\n",
       "      <th>user_type</th>\n",
       "      <th>item_type</th>\n",
       "      <th>ID</th>\n",
       "    </tr>\n",
       "  </thead>\n",
       "  <tbody>\n",
       "    <tr>\n",
       "      <th>0</th>\n",
       "      <td>MyUserDistribution</td>\n",
       "      <td>DISTRIBUTION</td>\n",
       "      <td>NODAL</td>\n",
       "      <td>0.0</td>\n",
       "    </tr>\n",
       "    <tr>\n",
       "      <th>1</th>\n",
       "      <td>2ndUserDistribution</td>\n",
       "      <td>DISTRIBUTION</td>\n",
       "      <td>NODAL</td>\n",
       "      <td>1.0</td>\n",
       "    </tr>\n",
       "    <tr>\n",
       "      <th>0</th>\n",
       "      <td>MyUserExpression</td>\n",
       "      <td>EXPRESSION</td>\n",
       "      <td>NODAL</td>\n",
       "      <td>0.0</td>\n",
       "    </tr>\n",
       "  </tbody>\n",
       "</table>\n",
       "</div>"
      ],
      "text/plain": [
       "                  Name     user_type item_type   ID\n",
       "0   MyUserDistribution  DISTRIBUTION     NODAL  0.0\n",
       "1  2ndUserDistribution  DISTRIBUTION     NODAL  1.0\n",
       "0     MyUserExpression    EXPRESSION     NODAL  0.0"
      ]
     },
     "execution_count": 22,
     "metadata": {},
     "output_type": "execute_result"
    }
   ],
   "source": [
    "doc.c.user.df.info()"
   ]
  },
  {
   "cell_type": "code",
   "execution_count": 23,
   "metadata": {},
   "outputs": [
    {
     "data": {
      "text/plain": [
       "[nan, nan, nan, nan, nan]"
      ]
     },
     "execution_count": 23,
     "metadata": {},
     "output_type": "execute_result"
    }
   ],
   "source": [
    "# unified access to user distribution\n",
    "doc.getParamValues((ifm.Enum.P_REFDIST_N, \"2ndUserDistribution\"))[:5]"
   ]
  },
  {
   "cell_type": "code",
   "execution_count": 24,
   "metadata": {},
   "outputs": [
    {
     "data": {
      "text/plain": [
       "[nan, nan, nan, nan, nan]"
      ]
     },
     "execution_count": 24,
     "metadata": {},
     "output_type": "execute_result"
    }
   ],
   "source": [
    "# unified access to user expressions\n",
    "doc.getParamValues((ifm.Enum.P_EXPDIST_N, \"MyUserExpression\"))[:5]"
   ]
  },
  {
   "cell_type": "markdown",
   "metadata": {},
   "source": [
    "the same behavior is adopted for the following functions:\n",
    "\n",
    "+  `getParamSize()`\n",
    "+  `getParamValue()`\n",
    "+  `getParamValues()`\n",
    "+  `setParamValue()`\n",
    "+  `setParamValues()`\n",
    "+  `enableParamRecording()`\n"
   ]
  },
  {
   "cell_type": "markdown",
   "metadata": {},
   "source": [
    "### New: Access to Boundary Conditions and Auxilliaries\n",
    "\n",
    "\n",
    "Auxillary Functions via SubID"
   ]
  },
  {
   "cell_type": "code",
   "execution_count": 25,
   "metadata": {},
   "outputs": [
    {
     "data": {
      "text/html": [
       "<div>\n",
       "<style scoped>\n",
       "    .dataframe tbody tr th:only-of-type {\n",
       "        vertical-align: middle;\n",
       "    }\n",
       "\n",
       "    .dataframe tbody tr th {\n",
       "        vertical-align: top;\n",
       "    }\n",
       "\n",
       "    .dataframe thead th {\n",
       "        text-align: right;\n",
       "    }\n",
       "</style>\n",
       "<table border=\"1\" class=\"dataframe\">\n",
       "  <thead>\n",
       "    <tr style=\"text-align: right;\">\n",
       "      <th></th>\n",
       "      <th>SLICE</th>\n",
       "      <th>TOP_NODE</th>\n",
       "      <th>X</th>\n",
       "      <th>Y</th>\n",
       "      <th>HEAD_BC</th>\n",
       "      <th>MOD_FUNCTION</th>\n",
       "    </tr>\n",
       "    <tr>\n",
       "      <th>NODE</th>\n",
       "      <th></th>\n",
       "      <th></th>\n",
       "      <th></th>\n",
       "      <th></th>\n",
       "      <th></th>\n",
       "      <th></th>\n",
       "    </tr>\n",
       "  </thead>\n",
       "  <tbody>\n",
       "    <tr>\n",
       "      <th>0</th>\n",
       "      <td>None</td>\n",
       "      <td>None</td>\n",
       "      <td>165.454856</td>\n",
       "      <td>1029.189591</td>\n",
       "      <td>0.0</td>\n",
       "      <td>NaN</td>\n",
       "    </tr>\n",
       "    <tr>\n",
       "      <th>1</th>\n",
       "      <td>None</td>\n",
       "      <td>None</td>\n",
       "      <td>136.731283</td>\n",
       "      <td>1003.845262</td>\n",
       "      <td>0.0</td>\n",
       "      <td>NaN</td>\n",
       "    </tr>\n",
       "    <tr>\n",
       "      <th>2</th>\n",
       "      <td>None</td>\n",
       "      <td>None</td>\n",
       "      <td>108.007710</td>\n",
       "      <td>978.500933</td>\n",
       "      <td>0.0</td>\n",
       "      <td>NaN</td>\n",
       "    </tr>\n",
       "    <tr>\n",
       "      <th>3</th>\n",
       "      <td>None</td>\n",
       "      <td>None</td>\n",
       "      <td>79.284137</td>\n",
       "      <td>953.156604</td>\n",
       "      <td>0.0</td>\n",
       "      <td>NaN</td>\n",
       "    </tr>\n",
       "    <tr>\n",
       "      <th>4</th>\n",
       "      <td>None</td>\n",
       "      <td>None</td>\n",
       "      <td>50.560564</td>\n",
       "      <td>927.812275</td>\n",
       "      <td>0.0</td>\n",
       "      <td>NaN</td>\n",
       "    </tr>\n",
       "    <tr>\n",
       "      <th>...</th>\n",
       "      <td>...</td>\n",
       "      <td>...</td>\n",
       "      <td>...</td>\n",
       "      <td>...</td>\n",
       "      <td>...</td>\n",
       "      <td>...</td>\n",
       "    </tr>\n",
       "    <tr>\n",
       "      <th>1221</th>\n",
       "      <td>None</td>\n",
       "      <td>None</td>\n",
       "      <td>922.190442</td>\n",
       "      <td>523.224622</td>\n",
       "      <td>10.0</td>\n",
       "      <td>NaN</td>\n",
       "    </tr>\n",
       "    <tr>\n",
       "      <th>1222</th>\n",
       "      <td>None</td>\n",
       "      <td>None</td>\n",
       "      <td>936.014621</td>\n",
       "      <td>559.996939</td>\n",
       "      <td>10.0</td>\n",
       "      <td>NaN</td>\n",
       "    </tr>\n",
       "    <tr>\n",
       "      <th>1223</th>\n",
       "      <td>None</td>\n",
       "      <td>None</td>\n",
       "      <td>949.838801</td>\n",
       "      <td>596.769256</td>\n",
       "      <td>10.0</td>\n",
       "      <td>NaN</td>\n",
       "    </tr>\n",
       "    <tr>\n",
       "      <th>1224</th>\n",
       "      <td>None</td>\n",
       "      <td>None</td>\n",
       "      <td>963.662980</td>\n",
       "      <td>633.541574</td>\n",
       "      <td>10.0</td>\n",
       "      <td>NaN</td>\n",
       "    </tr>\n",
       "    <tr>\n",
       "      <th>1225</th>\n",
       "      <td>None</td>\n",
       "      <td>None</td>\n",
       "      <td>977.487160</td>\n",
       "      <td>670.313891</td>\n",
       "      <td>10.0</td>\n",
       "      <td>NaN</td>\n",
       "    </tr>\n",
       "  </tbody>\n",
       "</table>\n",
       "<p>96 rows × 6 columns</p>\n",
       "</div>"
      ],
      "text/plain": [
       "     SLICE TOP_NODE           X            Y  HEAD_BC  MOD_FUNCTION\n",
       "NODE                                                               \n",
       "0     None     None  165.454856  1029.189591      0.0           NaN\n",
       "1     None     None  136.731283  1003.845262      0.0           NaN\n",
       "2     None     None  108.007710   978.500933      0.0           NaN\n",
       "3     None     None   79.284137   953.156604      0.0           NaN\n",
       "4     None     None   50.560564   927.812275      0.0           NaN\n",
       "...    ...      ...         ...          ...      ...           ...\n",
       "1221  None     None  922.190442   523.224622     10.0           NaN\n",
       "1222  None     None  936.014621   559.996939     10.0           NaN\n",
       "1223  None     None  949.838801   596.769256     10.0           NaN\n",
       "1224  None     None  963.662980   633.541574     10.0           NaN\n",
       "1225  None     None  977.487160   670.313891     10.0           NaN\n",
       "\n",
       "[96 rows x 6 columns]"
      ]
     },
     "execution_count": 25,
     "metadata": {},
     "output_type": "execute_result"
    }
   ],
   "source": [
    "# head BC and Modulation function\n",
    "doc.c.mesh.df.nodes(par={\"HEAD_BC\" : ifm.Enum.P_BCFLOW_1ST,\n",
    "                         \"MOD_FUNCTION\" : ifm.Enum.P_BCFLOWMOD_1ST}).dropna(subset=[\"HEAD_BC\"])"
   ]
  },
  {
   "cell_type": "code",
   "execution_count": 26,
   "metadata": {},
   "outputs": [
    {
     "data": {
      "text/plain": [
       "{'P_BCFLOWMOD_1ST': 570,\n",
       " 'P_BCFLOWMOD_2ND': 571,\n",
       " 'P_BCFLOWMOD_2ND_GRAD': 576,\n",
       " 'P_BCFLOWMOD_2ND_INT': 574,\n",
       " 'P_BCFLOWMOD_3RD': 572,\n",
       " 'P_BCFLOWMOD_3RD_INT': 575,\n",
       " 'P_BCFLOWMOD_4TH': 573,\n",
       " 'P_BCFLOW_1ST': 500,\n",
       " 'P_BCFLOW_2ND': 501,\n",
       " 'P_BCFLOW_2ND_GRA': 521,\n",
       " 'P_BCFLOW_2ND_INT': 511,\n",
       " 'P_BCFLOW_3RD': 502,\n",
       " 'P_BCFLOW_3RD_INT': 512,\n",
       " 'P_BCFLOW_4TH': 503,\n",
       " 'P_BCHEATMOD_1ST': 770,\n",
       " 'P_BCHEATMOD_2ND': 771,\n",
       " 'P_BCHEATMOD_2ND_INT': 774,\n",
       " 'P_BCHEATMOD_3RD': 772,\n",
       " 'P_BCHEATMOD_3RD_INT': 775,\n",
       " 'P_BCHEATMOD_4TH': 773,\n",
       " 'P_BCHEAT_1ST': 700,\n",
       " 'P_BCHEAT_2ND': 701,\n",
       " 'P_BCHEAT_2ND_INT': 711,\n",
       " 'P_BCHEAT_3RD': 702,\n",
       " 'P_BCHEAT_3RD_INT': 712,\n",
       " 'P_BCHEAT_4TH': 703,\n",
       " 'P_BCMASSMOD_1ST': 670,\n",
       " 'P_BCMASSMOD_2ND': 671,\n",
       " 'P_BCMASSMOD_2ND_INT': 674,\n",
       " 'P_BCMASSMOD_3RD': 672,\n",
       " 'P_BCMASSMOD_3RD_INT': 675,\n",
       " 'P_BCMASSMOD_4TH': 673,\n",
       " 'P_BCMASS_1ST': 600,\n",
       " 'P_BCMASS_2ND': 601,\n",
       " 'P_BCMASS_2ND_INT': 611,\n",
       " 'P_BCMASS_3RD': 602,\n",
       " 'P_BCMASS_3RD_INT': 612,\n",
       " 'P_BCMASS_4TH': 603,\n",
       " 'P_BC_FLOW': 500,\n",
       " 'P_BC_HEAT': 700,\n",
       " 'P_BC_MASS': 600}"
      ]
     },
     "execution_count": 26,
     "metadata": {},
     "output_type": "execute_result"
    }
   ],
   "source": [
    "# history-charts: content\n",
    "# this requires documentation\n",
    "{c: eval(\"ifm.Enum.{}\".format(c)) for c in dir(ifm.Enum) if c.startswith(\"P_BC\")}"
   ]
  },
  {
   "cell_type": "markdown",
   "metadata": {},
   "source": [
    "## Simulator Settings\n",
    "\n",
    "### New: Access Initial Simulation Time\n",
    "\n",
    "It is now possible to get and set the initial simulation tim:"
   ]
  },
  {
   "cell_type": "code",
   "execution_count": 27,
   "metadata": {},
   "outputs": [],
   "source": [
    "doc = ifm.loadDocument(\"../../unittests/models/example_2D_.fem\")"
   ]
  },
  {
   "cell_type": "code",
   "execution_count": 28,
   "metadata": {},
   "outputs": [],
   "source": [
    "# set new initial simulation time\n",
    "doc.setInitialSimulationTime(5.)\n",
    "doc.setFinalSimulationTime(20.)"
   ]
  },
  {
   "cell_type": "code",
   "execution_count": 29,
   "metadata": {},
   "outputs": [
    {
     "name": "stdout",
     "output_type": "stream",
     "text": [
      "Simulation period: 5.0d - 20.0d\n"
     ]
    }
   ],
   "source": [
    "# retrieve initial simulation time\n",
    "print(\"Simulation period: {}d - {}d\".format(doc.getInitialSimulationTime(), \n",
    "                                              doc.pdoc.getFinalSimulationTime()))"
   ]
  },
  {
   "cell_type": "markdown",
   "metadata": {},
   "source": [
    "### Set Time Stages for DAC saving\n",
    "\n",
    "It is now possible to set the time steps for dac-file output."
   ]
  },
  {
   "cell_type": "code",
   "execution_count": 30,
   "metadata": {},
   "outputs": [],
   "source": [
    "# set the model to save daily time steps\n",
    "flag = 3\n",
    "doc.setCustomTimes(list(range(5, 21, 2)), flag)"
   ]
  },
  {
   "cell_type": "markdown",
   "metadata": {},
   "source": [
    "<div class=\"alert alert-block alert-warning\">\n",
    "from collections.abc import Iterable   # drop `.abc` with Python 2.7 or lower\n",
    "\n",
    "def iterable(obj):\n",
    "    return isinstance(obj, Iterable)\n",
    "</div>"
   ]
  },
  {
   "cell_type": "markdown",
   "metadata": {},
   "source": [
    "the flag is for the actual usage of this list:\n",
    "\n",
    "+ 0: inactive (stored in FEM but not used)\n",
    "+ 1: used for saving (DAC)\n",
    "+ 2: used for simulation\n",
    "+ 3: used for both saving and simulation\n",
    "\n",
    "Note: 1 and 3 has equal behavior (saving implies simulation), the flag corresponds to the setting of the corresponding checkboxes in FEFLOW."
   ]
  },
  {
   "cell_type": "code",
   "execution_count": 31,
   "metadata": {},
   "outputs": [
    {
     "data": {
      "text/plain": [
       "([5.0, 7.0, 9.0, 11.0, 13.0, 15.0, 17.0, 19.0], 3)"
      ]
     },
     "execution_count": 31,
     "metadata": {},
     "output_type": "execute_result"
    }
   ],
   "source": [
    "# this reads the \n",
    "doc.queryCustomTimes()"
   ]
  },
  {
   "cell_type": "markdown",
   "metadata": {},
   "source": [
    "### Results File Control\n",
    "\n",
    "FEFLOW 7.4 provides provides an improved simulator API.\n",
    "\n",
    "Changing the output options (dac-path, file type, time of time steps) is now in a seperate call\n",
    "\n",
    "`doc.setOutput('yyy.dac', ifm.Enum.F_BINARY, [5., 10.])`\n",
    "\n",
    "before calling one of the simulator calls:\n",
    "\n",
    "+ `doc.startSimulator()` runs the simulation all the way to the end.\n",
    "+ `doc.runTo(t_end)` run the simulation until the simulation time reaches *t_end* \n",
    "+ `doc.singleStep()` run a single time step\n",
    "\n",
    "the file type is one of \n",
    "+ `ifm.Enum.F_ASCII`\n",
    "+ `ifm.Enum.F_BINARY`\n",
    "+ `ifm.Enum.F_CRYPTED`\n",
    "+ `ifm.Enum.F_DEFAULT`\n",
    "+ `ifm.Enum.F_INVALID`\n",
    "+ `ifm.Enum.F_PACKED`\n",
    "+ `ifm.Enum.F_PROTECTED`\n",
    "+ `ifm.Enum.F_XML`\n",
    "\n",
    "The example below first runs the model until day 10 ..."
   ]
  },
  {
   "cell_type": "code",
   "execution_count": 32,
   "metadata": {},
   "outputs": [
    {
     "data": {
      "text/plain": [
       "True"
      ]
     },
     "execution_count": 32,
     "metadata": {},
     "output_type": "execute_result"
    }
   ],
   "source": [
    "# define the output file\n",
    "doc.setOutput(\"test.dac\")\n",
    "\n",
    "# run to simulation time 20 days\n",
    "doc.runTo(10.)"
   ]
  },
  {
   "cell_type": "markdown",
   "metadata": {},
   "source": [
    "... and then uses single steps until the end of the simuation is reached."
   ]
  },
  {
   "cell_type": "code",
   "execution_count": 33,
   "metadata": {},
   "outputs": [
    {
     "name": "stdout",
     "output_type": "stream",
     "text": [
      "10.42871125029629\n",
      "10.65072053795304\n",
      "10.823744070789\n",
      "10.996767603624958\n",
      "11.0\n",
      "11.169791136460917\n",
      "11.44721145489437\n",
      "11.780677377414433\n",
      "12.232925493351479\n",
      "12.934952444509484\n",
      "13.0\n",
      "14.469369651423774\n",
      "15.0\n",
      "17.0\n",
      "19.0\n",
      "20.0\n"
     ]
    }
   ],
   "source": [
    "# run in single step mode and use \n",
    "while doc.singleStep():\n",
    "    print(doc.getAbsoluteSimulationTime())"
   ]
  },
  {
   "cell_type": "code",
   "execution_count": 34,
   "metadata": {},
   "outputs": [
    {
     "data": {
      "text/html": [
       "<div>\n",
       "<style scoped>\n",
       "    .dataframe tbody tr th:only-of-type {\n",
       "        vertical-align: middle;\n",
       "    }\n",
       "\n",
       "    .dataframe tbody tr th {\n",
       "        vertical-align: top;\n",
       "    }\n",
       "\n",
       "    .dataframe thead th {\n",
       "        text-align: right;\n",
       "    }\n",
       "</style>\n",
       "<table border=\"1\" class=\"dataframe\">\n",
       "  <thead>\n",
       "    <tr style=\"text-align: right;\">\n",
       "      <th></th>\n",
       "      <th>step_index</th>\n",
       "      <th>simulation_time</th>\n",
       "      <th>simulation_date</th>\n",
       "      <th>timestep_length</th>\n",
       "    </tr>\n",
       "    <tr>\n",
       "      <th>file_index</th>\n",
       "      <th></th>\n",
       "      <th></th>\n",
       "      <th></th>\n",
       "      <th></th>\n",
       "    </tr>\n",
       "  </thead>\n",
       "  <tbody>\n",
       "    <tr>\n",
       "      <th>0</th>\n",
       "      <td>0</td>\n",
       "      <td>5.0</td>\n",
       "      <td>NaN</td>\n",
       "      <td>0.0</td>\n",
       "    </tr>\n",
       "    <tr>\n",
       "      <th>1</th>\n",
       "      <td>21</td>\n",
       "      <td>7.0</td>\n",
       "      <td>NaN</td>\n",
       "      <td>2.0</td>\n",
       "    </tr>\n",
       "    <tr>\n",
       "      <th>2</th>\n",
       "      <td>27</td>\n",
       "      <td>9.0</td>\n",
       "      <td>NaN</td>\n",
       "      <td>2.0</td>\n",
       "    </tr>\n",
       "    <tr>\n",
       "      <th>3</th>\n",
       "      <td>34</td>\n",
       "      <td>11.0</td>\n",
       "      <td>NaN</td>\n",
       "      <td>2.0</td>\n",
       "    </tr>\n",
       "    <tr>\n",
       "      <th>4</th>\n",
       "      <td>40</td>\n",
       "      <td>13.0</td>\n",
       "      <td>NaN</td>\n",
       "      <td>2.0</td>\n",
       "    </tr>\n",
       "    <tr>\n",
       "      <th>5</th>\n",
       "      <td>42</td>\n",
       "      <td>15.0</td>\n",
       "      <td>NaN</td>\n",
       "      <td>2.0</td>\n",
       "    </tr>\n",
       "    <tr>\n",
       "      <th>6</th>\n",
       "      <td>43</td>\n",
       "      <td>17.0</td>\n",
       "      <td>NaN</td>\n",
       "      <td>2.0</td>\n",
       "    </tr>\n",
       "    <tr>\n",
       "      <th>7</th>\n",
       "      <td>44</td>\n",
       "      <td>19.0</td>\n",
       "      <td>NaN</td>\n",
       "      <td>2.0</td>\n",
       "    </tr>\n",
       "    <tr>\n",
       "      <th>8</th>\n",
       "      <td>45</td>\n",
       "      <td>20.0</td>\n",
       "      <td>NaN</td>\n",
       "      <td>1.0</td>\n",
       "    </tr>\n",
       "  </tbody>\n",
       "</table>\n",
       "</div>"
      ],
      "text/plain": [
       "            step_index  simulation_time  simulation_date  timestep_length\n",
       "file_index                                                               \n",
       "0                    0              5.0              NaN              0.0\n",
       "1                   21              7.0              NaN              2.0\n",
       "2                   27              9.0              NaN              2.0\n",
       "3                   34             11.0              NaN              2.0\n",
       "4                   40             13.0              NaN              2.0\n",
       "5                   42             15.0              NaN              2.0\n",
       "6                   43             17.0              NaN              2.0\n",
       "7                   44             19.0              NaN              2.0\n",
       "8                   45             20.0              NaN              1.0"
      ]
     },
     "execution_count": 34,
     "metadata": {},
     "output_type": "execute_result"
    }
   ],
   "source": [
    "# check the file steps in resulting dac:\n",
    "dac = ifm.loadDocument(\"test.dac\")\n",
    "df_ts = dac.c.sim.df.time_steps()\n",
    "dac.closeDocument()\n",
    "df_ts"
   ]
  },
  {
   "cell_type": "markdown",
   "metadata": {},
   "source": [
    "# New: Coordinate Systems\n",
    "\n",
    "`{set|get}WgeoCoordinateSystem().` allows to store a coordinate system string in the fem-file.\n",
    "The string has currently no effect on the model and the FEFLOW GUI, but can be used in scripts for further processing."
   ]
  },
  {
   "cell_type": "code",
   "execution_count": 35,
   "metadata": {},
   "outputs": [],
   "source": [
    "# set to WGS84 / UTM zone 32N\n",
    "doc.setGeoCoordinateSystem(ifm.Enum.CS_AUTHSTR, \"epsg:32632\")"
   ]
  },
  {
   "cell_type": "markdown",
   "metadata": {},
   "source": [
    "Note that FEFLOW has multiple independent registers which can be set independently:\n",
    "\n",
    "+ `CS_AUTHSTR`, e.g. \"epsg:32632\"\n",
    "+ `CS_CRSWKT`\n",
    "+ `CS_JSON`\n",
    "+ `CS_PRJFILE`\n",
    "+ `CS_PROJ`\n",
    "+ `CS_WGEO`\n",
    "\n",
    "see https://spatialreference.org/ for more examples."
   ]
  },
  {
   "cell_type": "code",
   "execution_count": 36,
   "metadata": {},
   "outputs": [
    {
     "data": {
      "text/plain": [
       "'epsg:32632'"
      ]
     },
     "execution_count": 36,
     "metadata": {},
     "output_type": "execute_result"
    }
   ],
   "source": [
    "# get the coordinate string\n",
    "doc.getGeoCoordinateSystem(ifm.Enum.CS_AUTHSTR)"
   ]
  },
  {
   "cell_type": "markdown",
   "metadata": {},
   "source": [
    "<div class=\"alert alert-block alert-warning\">\n",
    "    \n",
    "+ rename CS_* to CRS_*?\n",
    "+ vieleicht doch nur einen einzelnenn erlauben?\n",
    "    \n",
    "</div>"
   ]
  },
  {
   "cell_type": "markdown",
   "metadata": {},
   "source": [
    "# New: API for Pathlines and Streamlines!!\n",
    "\n",
    "IFM 7.4 includes a complete API to compute pathlines and streamlines! "
   ]
  },
  {
   "cell_type": "code",
   "execution_count": 37,
   "metadata": {},
   "outputs": [],
   "source": [
    "doc = ifm.loadDocument(\"../../unittests/models/example_2D.dac\")"
   ]
  },
  {
   "cell_type": "code",
   "execution_count": 38,
   "metadata": {},
   "outputs": [],
   "source": [
    "# create particle tracer object\n",
    "pt=doc.createParticleTracer()\n",
    "\n",
    "# change the setting\n",
    "pt.setDefaults()"
   ]
  },
  {
   "cell_type": "code",
   "execution_count": 39,
   "metadata": {
    "scrolled": true
   },
   "outputs": [
    {
     "data": {
      "text/plain": [
       "[(500.0, 500.0, 0.0),\n",
       " (499.91910927249415, 500.49830506443374, 55.92405000000001),\n",
       " (499.70512750339685, 501.83007909168265, 206.5095510025297),\n",
       " (499.26261936357497, 504.65244862445917, 531.2694341965164),\n",
       " (498.6101600625061, 509.0086402660946, 1048.4579569682069),\n",
       " (497.8359652303589, 514.5558676710816, 1737.434841075608),\n",
       " (497.66563732472065, 515.8357417827013, 1900.9458693202141),\n",
       " (496.8776086298564, 522.0537429996258, 2728.354870041295),\n",
       " (496.48809093974785, 525.2572135724712, 3172.56662233424),\n",
       " (495.770550034015, 531.6741421646121, 4113.675334153523),\n",
       " (495.16410434399603, 537.9483502926531, 5100.465729918583),\n",
       " (494.63004789800624, 544.1952077219265, 6152.658567421791),\n",
       " (494.1315175067746, 550.6202674259425, 7320.29355726624),\n",
       " (493.8435017025473, 554.7413439954971, 8126.611120812796),\n",
       " (493.4794429456592, 560.8486807221714, 9391.409202664201),\n",
       " (493.2112692366755, 567.2513275184939, 10819.350614350835),\n",
       " (493.06507700487725, 573.7029190243445, 12381.566963480329),\n",
       " (493.0405633336634, 576.202472528142, 13021.543865858539),\n",
       " (493.03306834388405, 581.6369648375855, 14504.254905213606),\n",
       " (493.0555054804126, 587.2742327961455, 16180.106103700859),\n",
       " (493.11002755363927, 592.892620607313, 18017.83428973186),\n",
       " (493.19552883514956, 598.356511667011, 20000.81508186527),\n",
       " (493.22568116504834, 599.9001618906286, 20601.73704455171),\n",
       " (493.3138865236035, 604.4441097506252, 22476.352832256554),\n",
       " (493.3951363482257, 609.3816999396117, 24697.110985901283),\n",
       " (493.4621274720126, 614.4186085870411, 27200.61260949331),\n",
       " (493.5120512452958, 619.3638687941416, 29947.886945524806),\n",
       " (493.54493692917407, 624.1041210016341, 32921.176280282794),\n",
       " (493.5623095884927, 628.5756488858402, 36118.73218064871),\n",
       " (493.5663636493497, 632.7441565558039, 39550.713064185715),\n",
       " (493.55951385029584, 636.5922275839063, 43236.73336676317),\n",
       " (493.5441657903832, 640.1121351249195, 47204.860199207484),\n",
       " (493.52260099835144, 643.3019203999578, 51491.781709793235),\n",
       " (493.4969181263768, 646.1633479545992, 56143.99956690101),\n",
       " (493.4690006803769, 648.7009085755549, 61220.07242676367),\n",
       " (493.4404971781325, 650.9214048379182, 66794.1369202651),\n",
       " (493.4128073579419, 652.8338692004214, 72961.19112628556),\n",
       " (493.4077953382575, 653.1610419012314, 74182.2264925514),\n",
       " (493.3964165097218, 654.1289268465213, 78328.92572546548),\n",
       " (493.3936385230539, 655.1992332709304, 84034.8339989054),\n",
       " (493.4013220904772, 656.2111071752375, 91230.288703742),\n",
       " (493.4165575372623, 657.0702564389251, 99961.87388624235),\n",
       " (493.43471116215727, 657.7405387620184, 110456.86408067076),\n",
       " (493.4516703167851, 658.2223003026276, 123179.73144770047),\n",
       " (493.4648146912944, 658.5364233077603, 138945.02110333307),\n",
       " (493.4732085620779, 658.7154240585752, 159173.39092382576),\n",
       " (493.4773756484073, 658.7982082278814, 186505.63857915194),\n",
       " (493.4787711095601, 658.8248905219829, 226513.60827507408),\n",
       " (493.47899420422993, 658.8290879733613, 294389.2950245687),\n",
       " (493.4789714935048, 658.8291859363192, 476935.14305794286),\n",
       " (493.4790425260318, 658.8291144501437, 580794.5881035515),\n",
       " (493.53331718784915, 658.8282115436534, 783250.192552814),\n",
       " (493.47890971796556, 658.8291265795204, 825458.7275046501),\n",
       " (493.4790035188701, 658.8291252064265, 880091.8759947959),\n",
       " (493.4801755313461, 658.8291055578221, 1047137.5419877727),\n",
       " (493.4773297099661, 658.8291533186198, 1141993.0565105814),\n",
       " (493.4813672853387, 658.8290855311618, 1237058.3669495392),\n",
       " (493.4763587025328, 658.8291696231955, 1325779.093505593),\n",
       " (493.4811299542238, 658.8290895156889, 1408247.7870107794),\n",
       " (493.4774416123955, 658.8291514415582, 1488910.3259920713),\n",
       " (493.48037696410324, 658.8291021581102, 1573077.5936249492),\n",
       " (493.4773949333227, 658.8291522252816, 1662738.238890167),\n",
       " (493.48103405274503, 658.8290911258383, 1754651.071946578),\n",
       " (493.4766698438465, 658.8291643992611, 1843951.6185290166),\n",
       " (493.48115736129887, 658.829089055534, 1928970.7780998687),\n",
       " (493.47722288685395, 658.8291551138783, 2011693.377619693),\n",
       " (493.4805522281807, 658.829099215491, 2095634.7292247692),\n",
       " (493.4773739819185, 658.8291525770486, 2182964.521360243),\n",
       " (493.4808798575362, 658.8290937147166, 2272650.7494052504),\n",
       " (493.4768747215796, 658.8291609594418, 2361647.5524580926),\n",
       " (493.48110603768214, 658.8290899172379, 2448007.43058368),\n",
       " (493.47711144105307, 658.8291569850111, 2532285.300488653),\n",
       " (493.4806865981719, 658.829096959471, 2616635.402763152),\n",
       " (493.4773224500875, 658.829153442248, 2702909.481766276),\n",
       " (493.4808139368858, 658.8290948215005, 2791104.2644656305),\n",
       " (493.4770032185856, 658.8291588020245, 2879508.4347218694),\n",
       " (493.48103782853457, 658.8290910624447, 2966471.5484355413),\n",
       " (493.477067312817, 658.8291577259064, 3051818.738610534),\n",
       " (493.48077846774237, 658.8290954170145, 3136734.0618373114),\n",
       " (493.47726600445844, 658.8291543899497, 3222614.131437252),\n",
       " (493.48079429191154, 658.8290951513319, 3309874.8431331115),\n",
       " (493.47707926722967, 658.829157525196, 3397675.332024496),\n",
       " (493.4809767234932, 658.8290920883759, 3484814.455068747),\n",
       " (493.4770602261039, 658.829157844891, 3570831.384851083),\n",
       " (493.4808343336643, 658.8290944790463, 3656272.40763637),\n",
       " (493.4772169629264, 658.8291552133396, 3742094.7902962775),\n",
       " (493.4807976607035, 658.829095094771, 3828817.7660485688),\n",
       " (493.4771206233904, 658.8291568308426, 3916119.377372572),\n",
       " (493.4809300310148, 658.8290928723237, 4003216.0399918994),\n",
       " (493.477070127878, 658.8291576786442, 4089608.2189441184),\n",
       " (493.4808638833538, 658.8290939829183, 4175463.2445565504),\n",
       " (493.4771798431238, 658.8291558365667, 4261378.642977502),\n",
       " (493.48081051455944, 658.8290948789595, 4347826.650683672),\n",
       " (493.4771401476207, 658.8291565030385, 4434764.123669936),\n",
       " (493.4808978628138, 658.829093412416, 4521730.456951416),\n",
       " (493.47708536850183, 658.8291574227607, 4608301.326851834),\n",
       " (493.4808764405895, 658.8290937720872, 4694447.615312573),\n",
       " (493.4771546571147, 658.8291562594296, 4780503.534134471),\n",
       " (493.4808253123872, 658.82909463051, 4866837.647692673),\n",
       " (493.4771468765061, 658.829156390064, 4953534.299994032),\n",
       " (493.48087762336604, 658.8290937522285, 5040355.410213804),\n",
       " (493.47710007771906, 658.8291571757968, 5126986.703182717),\n",
       " (493.4808793032805, 658.8290937240246, 5213318.502974921),\n",
       " (493.47713927421955, 658.8291565177014, 5299510.1918624975),\n",
       " (493.4808383577732, 658.8290944114829, 5385819.936806075),\n",
       " (493.47714686816903, 658.8291563902026, 5472372.117620668),\n",
       " (493.48086610454214, 658.8290939456253, 5559067.594913381),\n",
       " (493.4771118871136, 658.8291569775217, 5645696.730523183),\n",
       " (493.4808774453155, 658.8290937552173, 5732134.597817533),\n",
       " (493.4771309675168, 658.829156657169, 5818435.639699677),\n",
       " (493.48084831170786, 658.8290942443604, 5904764.00788456),\n",
       " (493.47714392402946, 658.8291564396343, 5991239.239342847),\n",
       " (493.4808604002846, 658.8290940413972, 6077840.129849633),\n",
       " (493.477120320371, 658.8291568359306, 6164440.186698068),\n",
       " (493.4808738826145, 658.8290938150338, 6250930.423740299),\n",
       " (493.47712724887725, 658.8291567196035, 6337309.721106485),\n",
       " (493.4808551306628, 658.8290941298721, 6423671.98592272),\n",
       " (493.4771402217922, 658.8291565017931, 6510113.284285566),\n",
       " (493.4808582327726, 658.8290940777898, 6596650.026282316),\n",
       " (493.47712578208404, 658.8291567442303, 6683214.49520159),\n",
       " (493.48087022567427, 658.829093876433, 6769724.295427773),\n",
       " (493.47712619733784, 658.8291567372588, 6856154.2807326745),\n",
       " (493.48085935701727, 658.8290940589134, 6942550.990267466),\n",
       " (493.47713684941135, 658.8291565584144, 7028983.082551745),\n",
       " (493.48085798874564, 658.8290940818856, 7115480.388594063),\n",
       " (493.47712897869013, 658.8291566905606, 7202012.820991584),\n",
       " (493.48086718610006, 658.8290939274666, 7288524.38594684),\n",
       " (493.4771264939246, 658.8291567322782, 7374983.969750916),\n",
       " (493.48086169434777, 658.8290940196713, 7461409.184939694),\n",
       " (493.47713422420316, 658.829156602491, 7547844.450527721),\n",
       " (493.48085862504723, 658.8290940712027, 7634320.118975335),\n",
       " (493.4771306203672, 658.8291566629981, 7720827.80406299),\n",
       " (493.4808649600829, 658.8290939648415, 7807333.071121978),\n",
       " (493.47712732251694, 658.8291567183666, 7893807.767517886),\n",
       " (493.4808627896641, 658.8290940012806, 7980253.794658625),\n",
       " (493.4771323948644, 658.8291566332053, 8066697.040054224),\n",
       " (493.4808595305735, 658.8290940560001, 8153162.679054421),\n",
       " (493.4771312927878, 658.829156651708, 8239653.222493368),\n",
       " (493.4808634864261, 658.8290939895835, 8326149.81436677),\n",
       " (493.47712823321075, 658.8291567030778, 8412630.610983942),\n",
       " (493.4808631481808, 658.8290939952609, 8499090.372446025),\n",
       " (493.47713123998614, 658.829156652595, 8585542.254782395),\n",
       " (493.4808603910801, 658.8290940415518, 8672004.704679426),\n",
       " (493.47713142354, 658.8291566495132, 8758484.485157074),\n",
       " (493.4808626036734, 658.8290940044031, 8844972.923960818),\n",
       " (493.47712901608367, 658.8291566899318, 8931454.807086537),\n",
       " (493.4808631220798, 658.8290939957004, 9017922.762369901),\n",
       " (493.47713058567575, 658.8291566635804, 9104382.01840951),\n",
       " (493.48086107779443, 658.8290940300224, 9190844.823039943),\n",
       " (493.4771312953759, 658.8291566516639, 9277318.542393861),\n",
       " (493.48086213587595, 658.8290940122581, 9363800.517213868),\n",
       " (493.4771296029722, 658.8291566800785, 9450281.111869829),\n",
       " (493.4808629335242, 658.8290939988656, 9536753.382437967),\n",
       " (493.4771302664206, 658.82915666894, 9623218.1407167),\n",
       " (493.4808615657953, 658.8290940218292, 9709682.776427805),\n",
       " (493.4771310776188, 658.8291566553198, 9796153.564778604),\n",
       " (493.4808619322542, 658.8290940156753, 9882630.969076011),\n",
       " (493.47712999944605, 658.8291566734209, 9969109.47392317),\n",
       " (493.4808627082076, 658.8290940026483, 10055583.59966382),\n",
       " (493.47713015009515, 658.8291566708931, 10142052.059887683),\n",
       " (493.4808618798864, 658.829094016556, 10228518.8399098),\n",
       " (493.477130859939, 658.829156658974, 10314988.583148334),\n",
       " (493.4808618799574, 658.8290940165552, 10401463.059432575),\n",
       " (493.47713024208514, 658.8291566693498, 10487939.500830473),\n",
       " (493.4808625073365, 658.8290940060211, 10574414.07955372),\n",
       " (493.47713014284227, 658.8291566710141, 10660884.795276172),\n",
       " (493.4808620620344, 658.8290940134973, 10747353.471198607),\n",
       " (493.4771306813227, 658.8291566619744, 10833823.176358476),\n",
       " (493.48086190281686, 658.8290940161709, 10920295.963629829),\n",
       " (493.47713037435875, 658.8291566671284, 11006770.723098285),\n",
       " (493.48086235310814, 658.8290940086105, 11093245.06403754),\n",
       " (493.4771301842983, 658.8291566703189, 11179717.002047459),\n",
       " (493.48086215415987, 658.8290940119504, 11266187.125966797),\n",
       " (493.47713055171863, 658.8291566641493, 11352657.237591488),\n",
       " (493.4808619542455, 658.8290940153065, 11439129.177240802),\n",
       " (493.4771304349393, 658.8291566661102, 11525602.722227825),\n",
       " (493.48086224681913, 658.8290940103943, 11612076.567706538),\n",
       " (493.47713023949143, 658.8291566693928, 11698549.059578557),\n",
       " (493.4808621906241, 658.8290940113386, 11785020.177046543),\n",
       " (493.4771304666619, 658.8291566655795, 11871490.815463979),\n",
       " (493.4808620088754, 658.8290940143899, 11957962.425246581),\n",
       " (493.47713045349786, 658.8291566657983, 12044435.176735098),\n",
       " (493.4808621804223, 658.8290940115127, 12130908.50362594),\n",
       " (493.4771302907634, 658.8291566685301, 12217381.159551201),\n",
       " (493.48086219635826, 658.8290940112423, 12303852.894951077),\n",
       " (493.4771304162209, 658.8291566664263, 12390324.018056383),\n",
       " (493.4808620551037, 658.8290940136154, 12476795.582158761),\n",
       " (493.47713045046163, 658.8291566658492, 12563267.865402777),\n",
       " (493.4808621432721, 658.8290940121329, 12649740.756612085),\n",
       " (493.4771303311295, 658.829156667853, 12736213.37767541),\n",
       " (493.48086218770624, 658.8290940113877, 12822685.456850747),\n",
       " (493.4771303898708, 658.8291566668674, 12909156.959359115),\n",
       " (493.48086208938713, 658.829094013038, 12995628.609463848),\n",
       " (493.4771304385793, 658.8291566660487, 13082100.649797808),\n",
       " (493.48086212549583, 658.8290940124324, 13168573.219458262),\n",
       " (493.47713035951716, 658.8291566673762, 13255045.725436715),\n",
       " (493.4808621743525, 658.8290940116134, 13341517.96758145),\n",
       " (493.4771303787267, 658.8291566670555, 13427989.735685885),\n",
       " (493.4808621123226, 658.8290940126519, 13514461.513661202),\n",
       " (493.47713042499015, 658.8291566662779, 13600933.452690342),\n",
       " (493.4808621193339, 658.8290940125363, 13687405.808231473),\n",
       " (493.47713037760525, 658.8291566670732, 13773878.184953174),\n",
       " (493.4808621613474, 658.82909401183, 13860350.482237091),\n",
       " (493.4771303761907, 658.8291566670966, 13946822.418839838),\n",
       " (493.48086212621956, 658.8290940124189, 14033294.31994777),\n",
       " (493.4771304130882, 658.8291566664776, 14119766.237340441),\n",
       " (493.4808621193241, 658.8290940125358, 14206238.463732166),\n",
       " (493.47713038797457, 658.8291566668993, 14292710.728139132),\n",
       " (493.480862150827, 658.8290940120066, 14379183.023796799),\n",
       " (493.47713037784285, 658.829156667069, 14465655.0565177),\n",
       " (493.48086213369476, 658.8290940122944, 14552127.056597477),\n",
       " (493.4771304040578, 658.8291566666286, 14638598.990869228),\n",
       " (493.48086212199047, 658.82909401249, 14725071.148249676),\n",
       " (493.47713039312407, 658.8291566668127, 14811543.32790241),\n",
       " (493.4808621432761, 658.8290940121337, 14898015.597514346),\n",
       " (493.4771303810301, 658.8291566670158, 14984487.677540377),\n",
       " (493.4808621370294, 658.829094012239, 15070959.748336218),\n",
       " (493.4771303978986, 658.8291566667319, 15157431.713221949),\n",
       " (493.4808621253445, 658.8290940124355, 15243903.840164987),\n",
       " (493.4771303950799, 658.8291566667806, 15330375.962235251),\n",
       " (493.48086213837036, 658.8290940122163, 15416848.199863113),\n",
       " (493.47713038430663, 658.8291566669609, 15503320.297512777),\n",
       " (493.4808621379749, 658.8290940122239, 15589792.414041901),\n",
       " (493.4771303940864, 658.8291566667962, 15676264.409985393),\n",
       " (493.48086212838604, 658.8290940123833, 15762736.52863307),\n",
       " (493.4771303953087, 658.8291566667772, 15849208.61526529),\n",
       " (493.48086213549124, 658.8290940122632, 15935680.82417226),\n",
       " (493.4771303870308, 658.8291566669152, 16022152.923528599),\n",
       " (493.48086213771086, 658.8290940122262, 16108625.06678171),\n",
       " (493.47713039198106, 658.8291566668316, 16195097.088405844),\n",
       " (493.48086213075464, 658.8290940123437, 16281569.209884664),\n",
       " (493.4771303947429, 658.8291566667862, 16368041.277022691),\n",
       " (493.48086213400427, 658.8290940122891, 16454513.463684382),\n",
       " (493.47713038903356, 658.8291566668828, 16540985.557456652),\n",
       " (493.4808621369746, 658.8290940122396, 16627457.71440133),\n",
       " (493.47713039099017, 658.8291566668487, 16713929.754788412),\n",
       " (493.4808621324043, 658.8290940123155, 16800401.883400384),\n",
       " (493.4771303939268, 658.8291566667992, 16886873.94147684),\n",
       " (493.48086213340144, 658.8290940122986, 16973346.11272006),\n",
       " (493.47713039035926, 658.8291566668595, 17059818.19867893),\n",
       " (493.48086213615426, 658.829094012253, 17146290.36111089),\n",
       " (493.4771303906652, 658.8291566668552, 17232762.413869567),\n",
       " (493.4808621334412, 658.8290940122982, 17319234.550222382),\n",
       " (493.4771303931562, 658.8291566668138, 17405706.605423085),\n",
       " (493.4808621332805, 658.8290940123019, 17492178.767010182),\n",
       " (493.47713039115007, 658.8291566668465, 17578650.84567341),\n",
       " (493.48086213545656, 658.829094012266, 17665123.009099927),\n",
       " (493.4771303906873, 658.8291566668528, 17751595.069195375),\n",
       " (493.48086213402973, 658.8290940122895, 17838067.212174363),\n",
       " (493.4771303925383, 658.8291566668228, 17924539.267699856),\n",
       " (493.48086213339377, 658.8290940122992, 18011011.4238388),\n",
       " (493.47713039157026, 658.8291566668388, 18097483.49672029),\n",
       " (493.4808621349319, 658.8290940122741, 18183955.659018323),\n",
       " (493.4771303908578, 658.8291566668522, 18270427.722982876),\n",
       " (493.48086213431685, 658.8290940122832, 18356899.870877486),\n",
       " (493.4771303920995, 658.82915666683, 18443371.92802278),\n",
       " (493.4808621335894, 658.8290940122969, 18529844.081505965),\n",
       " (493.4771303917544, 658.829156666835, 18616316.150248975),\n",
       " (493.4808621345716, 658.8290940122796, 18702788.310638744),\n",
       " (493.4771303910642, 658.8291566668483, 18789260.376282036),\n",
       " (493.48086213442195, 658.8290940122823, 18875732.52755334),\n",
       " (493.4771303918127, 658.8291566668348, 18962204.586657647),\n",
       " (493.4808621337896, 658.829094012293, 19048676.739199862),\n",
       " (493.47713039180337, 658.8291566668363, 19135148.80527106),\n",
       " (493.48086213434686, 658.8290940122847, 19221620.96377136),\n",
       " (493.4771303912451, 658.8291566668435, 19308093.029847994),\n",
       " (493.4808621344323, 658.8290940122831, 19394565.18320106),\n",
       " (493.4771303916419, 658.8291566668375, 19481037.244027678),\n",
       " (493.4808621339508, 658.8290940122902, 19567509.396477215),\n",
       " (493.4771303917861, 658.829156666835, 19653981.46098046),\n",
       " (493.48086213422647, 658.8290940122852, 19740453.61796601),\n",
       " (493.4771303913876, 658.8291566668426, 19826925.683854252),\n",
       " (493.4808621343921, 658.8290940122837, 19913397.83831935),\n",
       " (493.4771303915602, 658.8291566668379, 19999869.900489006),\n",
       " (493.4808621340681, 658.8290940122884, 20086342.05334007),\n",
       " (493.47713039173806, 658.8291566668358, 20172814.1170979),\n",
       " (493.48086213417326, 658.8290940122861, 20259286.272987578),\n",
       " (493.4771303914761, 658.82915666684, 20345758.338412773),\n",
       " (493.48086213434505, 658.8290940122836, 20432230.493348725),\n",
       " (493.47713039152984, 658.829156666841, 20518702.556355186),\n",
       " (493.4808621341436, 658.8290940122864, 20605174.709664427),\n",
       " (493.4771303916923, 658.8291566668362, 20691646.773121856),\n",
       " (493.4808621341534, 658.8290940122873, 20778118.928315092),\n",
       " (493.4771303915403, 658.8291566668408, 20864590.993317917),\n",
       " (493.48086213429787, 658.8290940122843, 20951063.148454227),\n",
       " (493.4771303915213, 658.8291566668394, 21037535.212056354),\n",
       " (493.48086213419504, 658.8290940122863, 21124007.36581578),\n",
       " (493.4771303916437, 658.8291566668372, 21210479.42919334),\n",
       " (493.4808621341563, 658.8290940122887, 21296951.583891798),\n",
       " (493.47713039157674, 658.8291566668385, 21383423.648443878),\n",
       " (493.48086213426086, 658.8290940122852, 21469895.803525608),\n",
       " (493.47713039153257, 658.8291566668397, 21556367.867460128),\n",
       " (493.48086213421357, 658.8290940122871, 21642840.02158389),\n",
       " (493.4771303916164, 658.8291566668378, 21729312.08510572),\n",
       " (493.4808621341698, 658.8290940122873, 21815784.239656977),\n",
       " (493.47713039158674, 658.8291566668377, 21902256.303955596),\n",
       " (493.48086213423454, 658.829094012286, 21988728.458911113),\n",
       " (493.4771303915451, 658.8291566668382, 22075200.522956755),\n",
       " (493.4808621342243, 658.8290940122853, 22161672.677313317),\n",
       " (493.4771303915943, 658.82915666684, 22248144.74092862),\n",
       " (493.4808621341816, 658.8290940122868, 22334616.895355653),\n",
       " (493.4771303915961, 658.8291566668382, 22421088.959423713),\n",
       " (493.4808621342182, 658.8290940122854, 22507561.114271138),\n",
       " (493.47713039155553, 658.8291566668379, 22594033.178365353),\n",
       " (493.4808621342256, 658.8290940122865, 22680505.332865287),\n",
       " (493.4771303915847, 658.8291566668383, 22766977.39658857),\n",
       " (493.4808621341916, 658.8290940122849, 22853449.55102838),\n",
       " (493.4771303915946, 658.8291566668382, 22939921.615024235),\n",
       " (493.4808621342114, 658.8290940122846, 23026393.769785628),\n",
       " (493.47713039156554, 658.8291566668398, 23112865.833869077),\n",
       " (493.48086213422613, 658.8290940122864, 23199337.98844592),\n",
       " (493.4771303915795, 658.8291566668379, 23285810.052247394),\n",
       " (493.48086213419805, 658.8290940122854, 23372282.20669468),\n",
       " (493.4771303915938, 658.8291566668386, 23458754.270636518),\n",
       " (493.4808621342046, 658.829094012285, 23545226.425340585),\n",
       " (493.47713039157117, 658.8291566668393, 23631698.48943145),\n",
       " (493.48086213422494, 658.8290940122845, 23718170.644080173),\n",
       " (493.4771303915688, 658.8291566668388, 23804642.707961626),\n",
       " (493.48086213420726, 658.8290940122859, 23891114.862388797),\n",
       " (493.4771303915911, 658.8291566668381, 23977586.926226955),\n",
       " (493.48086213420015, 658.8290940122862, 24064059.08082799),\n",
       " (493.47713039158003, 658.8291566668389, 24150531.144879173),\n",
       " (493.4808621342181, 658.8290940122868, 24237003.299562573),\n",
       " (493.4771303915729, 658.8291566668382, 24323475.363521207),\n",
       " (493.4808621342083, 658.8290940122855, 24409947.518032946),\n",
       " (493.47713039158737, 658.829156666839, 24496419.58191981),\n",
       " (493.48086213420504, 658.8290940122862, 24582891.736522187),\n",
       " (493.4771303915785, 658.8291566668386, 24669363.800532408),\n",
       " (493.48086213421556, 658.829094012286, 24755835.955168974),\n",
       " (493.47713039157475, 658.829156666839, 24842308.019097775),\n",
       " (493.48086213421, 658.829094012286, 24928780.173623305),\n",
       " (493.4771303915819, 658.8291566668378, 25015252.237534653),\n",
       " (493.4808621342092, 658.8290940122868, 25101724.39211172),\n",
       " (493.47713039158015, 658.8291566668377, 25188196.456075106),\n",
       " (493.480862134209, 658.8290940122865, 25274668.610671114),\n",
       " (493.4771303915795, 658.8291566668383, 25361140.674627945),\n",
       " (493.4808621342121, 658.8290940122857, 25447612.82922458),\n",
       " (493.4771303915756, 658.8291566668377, 25534084.893172488),\n",
       " (493.48086213421067, 658.8290940122869, 25620557.04772097),\n",
       " (493.4771303915832, 658.8291566668389, 25707029.111623053),\n",
       " (493.48086213420527, 658.8290940122847, 25793501.26619686),\n",
       " (493.4771303915809, 658.8291566668394, 25879973.33018549),\n",
       " (493.48086213421294, 658.829094012286, 25966445.484815855),\n",
       " (493.47713039157605, 658.8291566668389, 26052917.548784435),\n",
       " (493.48086213421095, 658.8290940122861, 26139389.703349944),\n",
       " (493.4771303915847, 658.8291566668383, 26225861.767269664),\n",
       " (493.4808621342058, 658.8290940122852, 26312333.921863463),\n",
       " (493.4771303915774, 658.8291566668385, 26398805.98586194),\n",
       " (493.48086213421146, 658.8290940122866, 26485278.14046176),\n",
       " (493.4771303915798, 658.8291566668396, 26571750.204394978),\n",
       " (493.48086213420976, 658.8290940122854, 26658222.358982608),\n",
       " (493.47713039158043, 658.8291566668383, 26744694.422931027),\n",
       " (493.48086213421135, 658.8290940122866, 26831166.577533793),\n",
       " (493.4771303915777, 658.8291566668388, 26917638.64148341),\n",
       " (493.48086213420993, 658.8290940122861, 27004110.796061166),\n",
       " (493.47713039158066, 658.8291566668375, 27090582.85999505),\n",
       " (493.4808621342063, 658.8290940122869, 27177055.014572654),\n",
       " (493.4771303915795, 658.8291566668371, 27263527.07854765),\n",
       " (493.480862134215, 658.8290940122861, 27349999.233159345),\n",
       " (493.47713039157685, 658.8291566668381, 27436471.297097214),\n",
       " (493.48086213420953, 658.8290940122874, 27522943.451647904),\n",
       " (493.47713039158435, 658.8291566668375, 27609415.515557963),\n",
       " (493.4808621342093, 658.8290940122855, 27695887.670144837),\n",
       " (493.47713039157685, 658.8291566668387, 27782359.73411925),\n",
       " (493.48086213421357, 658.8290940122854, 27868831.888695754),\n",
       " (493.4771303915797, 658.8291566668385, 27955303.952609733),\n",
       " (493.48086213420584, 658.8290940122856, 28041776.10716382),\n",
       " (493.47713039158293, 658.8291566668383, 28128248.17111368),\n",
       " (493.48086213420845, 658.8290940122849, 28214720.325729795),\n",
       " (493.47713039157543, 658.8291566668386, 28301192.38972461),\n",
       " (493.48086213421493, 658.8290940122854, 28387664.544313114),\n",
       " (493.47713039157856, 658.8291566668375, 28474136.60823481),\n",
       " (493.4808621342075, 658.8290940122874, 28560608.762782887),\n",
       " (493.47713039158145, 658.8291566668379, 28647080.82673102),\n",
       " (493.4808621342091, 658.829094012286, 28733552.981333125),\n",
       " (493.4771303915787, 658.8291566668397, 28820025.04531353),\n",
       " (493.4808621342125, 658.8290940122852, 28906497.199926216),\n",
       " (493.47713039157844, 658.8291566668383, 28992969.26387263),\n",
       " (493.48086213421266, 658.8290940122847, 29079441.418452073),\n",
       " (493.47713039158015, 658.8291566668404, 29165913.48237655),\n",
       " (493.48086213420953, 658.8290940122861, 29252385.636928078),\n",
       " (493.47713039158094, 658.8291566668382, 29338857.70087197),\n",
       " (493.48086213420964, 658.8290940122856, 29425329.855476048),\n",
       " (493.47713039157856, 658.8291566668396, 29511801.919439394),\n",
       " (493.48086213421453, 658.8290940122854, 29598274.074038733),\n",
       " (493.4771303915765, 658.8291566668378, 29684746.137978617),\n",
       " (493.48086213420913, 658.829094012285, 29771218.29252093),\n",
       " (493.47713039158344, 658.829156666838, 29857690.35644565),\n",
       " (493.48086213421107, 658.8290940122862, 29944162.51106011),\n",
       " (493.47713039157424, 658.8291566668378, 30030634.575054385),\n",
       " (493.48086213421516, 658.829094012284, 30117106.729631856),\n",
       " (493.4771303915776, 658.8291566668406, 30203578.793530237),\n",
       " (493.4808621342081, 658.8290940122838, 30290050.94805753),\n",
       " (493.477130391582, 658.8291566668394, 30376523.011990443),\n",
       " (493.48086213421004, 658.829094012287, 30462995.166595988),\n",
       " (493.4771303915784, 658.8291566668383, 30549467.230562758),\n",
       " (493.48086213421163, 658.8290940122859, 30635939.385149803),\n",
       " (493.47713039157753, 658.8291566668382, 30722411.449089266),\n",
       " (493.4808621342111, 658.8290940122849, 30808883.6036572),\n",
       " (493.4771303915817, 658.8291566668379, 30895355.667586397),\n",
       " (493.4808621342072, 658.8290940122868, 30981827.822169736),\n",
       " (493.47713039158083, 658.8291566668383, 31068299.886133462),\n",
       " (493.4808621342127, 658.829094012286, 31154772.040759023),\n",
       " (493.47713039157605, 658.8291566668383, 31241244.10472493),\n",
       " (493.480862134212, 658.8290940122868, 31327716.259302136),\n",
       " (493.47713039157844, 658.8291566668396, 31414188.323225286),\n",
       " (493.48086213420936, 658.8290940122854, 31500660.477781225),\n",
       " (493.4771303915851, 658.8291566668391, 31587132.541692957),\n",
       " (493.48086213420373, 658.8290940122854, 31673604.696288757),\n",
       " (493.47713039157856, 658.8291566668378, 31760076.760314636),\n",
       " (493.4808621342142, 658.8290940122862, 31846548.91496571),\n",
       " (493.47713039157156, 658.8291566668399, 31933020.97892856),\n",
       " (493.48086213421544, 658.829094012285, 32019493.133466136),\n",
       " (493.4771303915807, 658.8291566668378, 32105965.197335925),\n",
       " (493.4808621342031, 658.8290940122869, 32192437.35185021),\n",
       " (493.4771303915869, 658.8291566668389, 32278909.415817216),\n",
       " (493.4808621342123, 658.8290940122862, 32365381.5704804),\n",
       " (493.4771303915764, 658.8291566668385, 32451853.63448355),\n",
       " (493.48086213421533, 658.8290940122855, 32538325.789064538),\n",
       " (493.47713039158134, 658.8291566668383, 32624797.85296421),\n",
       " (493.48086213420487, 658.829094012285, 32711270.00751533),\n",
       " (493.47713039158447, 658.8291566668371, 32797742.071479358),\n",
       " (493.48086213421067, 658.8290940122852, 32884214.22611814),\n",
       " (493.47713039157435, 658.8291566668385, 32970686.29010877),\n",
       " (493.48086213421396, 658.829094012286, 33057158.44467993),\n",
       " (493.4771303915804, 658.829156666838, 33143630.50858182),\n",
       " (493.4808621342035, 658.8290940122856, 33230102.663130365),\n",
       " (493.47713039158674, 658.8291566668396, 33316574.727086153),\n",
       " (493.48086213420964, 658.8290940122854, 33403046.88175286),\n",
       " (493.47713039157367, 658.8291566668386, 33489518.945775595),\n",
       " (493.48086213421794, 658.8290940122856, 33575991.100363344),\n",
       " (493.4771303915763, 658.8291566668404, 33662463.16424384),\n",
       " (493.4808621342066, 658.8290940122857, 33748935.31875527),\n",
       " (493.47713039158316, 658.8291566668377, 33835407.38268278),\n",
       " (493.48086213420936, 658.8290940122865, 33921879.53729162),\n",
       " (493.4771303915783, 658.8291566668378, 34008351.60125899),\n",
       " (493.4808621342142, 658.8290940122848, 34094823.75586799),\n",
       " (493.47713039157713, 658.8291566668393, 34181295.81978528),\n",
       " (493.4808621342076, 658.8290940122856, 34267767.97431623),\n",
       " (493.47713039158634, 658.8291566668381, 34354240.03824835),\n",
       " (493.4808621342078, 658.8290940122857, 34440712.192868896),\n",
       " (493.47713039157566, 658.8291566668383, 34527184.256871946),\n",
       " (493.48086213421544, 658.8290940122852, 34613656.41148141),\n",
       " (493.47713039158, 658.8291566668388, 34700128.47538318),\n",
       " (493.4808621342045, 658.8290940122855, 34786600.62990464),\n",
       " (493.47713039158583, 658.8291566668382, 34873072.69385146),\n",
       " (493.48086213420856, 658.8290940122856, 34959544.84848377),\n",
       " (493.47713039157793, 658.8291566668386, 35046016.91248102),\n",
       " (493.48086213421556, 658.8290940122848, 35132489.067096375),\n",
       " (493.47713039157617, 658.8291566668386, 35218961.13102455),\n",
       " (493.48086213421135, 658.829094012285, 35305433.28556763),\n",
       " (493.47713039158106, 658.8291566668385, 35391905.34947055),\n",
       " (493.48086213420584, 658.8290940122874, 35478377.50403433),\n",
       " (493.47713039158475, 658.8291566668382, 35564849.568000704),\n",
       " (493.48086213421027, 658.8290940122846, 35651321.72264014),\n",
       " (493.4771303915726, 658.8291566668386, 35737793.78662876),\n",
       " (493.480862134217, 658.8290940122846, 35824265.941217646),\n",
       " (493.4771303915786, 658.8291566668377, 35910738.005113445),\n",
       " (493.48086213420316, 658.8290940122856, 35997210.15964578),\n",
       " (493.4771303915855, 658.8291566668396, 36083682.22360071),\n",
       " (493.4808621342096, 658.8290940122853, 36170154.37824813),\n",
       " (493.4771303915759, 658.8291566668391, 36256626.44225256),\n",
       " (493.4808621342167, 658.8290940122846, 36343098.59686455),\n",
       " (493.4771303915768, 658.8291566668391, 36429570.66077667),\n",
       " (493.48086213420805, 658.8290940122869, 36516042.81529037),\n",
       " (493.47713039158606, 658.8291566668383, 36602514.87919741),\n",
       " (493.4808621342073, 658.8290940122854, 36688987.03381511),\n",
       " (493.4771303915751, 658.8291566668383, 36775459.097824596),\n",
       " (493.48086213421783, 658.8290940122865, 36861931.25242764),\n",
       " (493.47713039157736, 658.8291566668374, 36948403.31632656),\n",
       " (493.4808621342061, 658.8290940122862, 37034875.47084069),\n",
       " (493.47713039158504, 658.8291566668371, 37121347.534765035),\n",
       " (493.4808621342091, 658.8290940122866, 37207819.68938623),\n",
       " (493.47713039157577, 658.8291566668385, 37294291.75338549),\n",
       " (493.4808621342203, 658.8290940122853, 37380763.90799568),\n",
       " (493.4771303915728, 658.8291566668385, 37467235.971901745),\n",
       " (493.480862134207, 658.8290940122856, 37553708.12638068),\n",
       " (493.4771303915903, 658.829156666838, 37640180.19025684),\n",
       " (493.4808621342051, 658.8290940122854, 37726652.34487574),\n",
       " (493.47713039157367, 658.8291566668382, 37813124.40891851),\n",
       " (493.4808621342198, 658.8290940122853, 37899596.56354319),\n",
       " (493.47713039157543, 658.8291566668387, 37986068.62743464),\n",
       " (493.4808621342051, 658.8290940122849, 38072540.78194242),\n",
       " (493.47713039158486, 658.8291566668377, 38159012.84586209),\n",
       " (493.4808621342062, 658.829094012287, 38245485.000472106),\n",
       " (493.47713039157634, 658.8291566668385, 38331957.06446281),\n",
       " (493.4808621342158, 658.8290940122862, 38418429.219076455),\n",
       " (493.4771303915814, 658.8291566668383, 38504901.2829906),\n",
       " (493.480862134204, 658.8290940122861, 38591373.437546104),\n",
       " (493.4771303915825, 658.8291566668388, 38677845.501522616),\n",
       " (493.4808621342187, 658.8290940122853, 38764317.65615759),\n",
       " (493.47713039157065, 658.8291566668393, 38850789.72010545),\n",
       " (493.4808621342075, 658.8290940122869, 38937261.87459767),\n",
       " (493.47713039158276, 658.8291566668381, 39023733.9384945),\n",
       " (493.4808621342054, 658.8290940122854, 39110206.09307831),\n",
       " (493.47713039158117, 658.8291566668402, 39196678.15706773),\n",
       " (493.48086213421215, 658.8290940122848, 39283150.31171649),\n",
       " (493.4771303915738, 658.8291566668385, 39369622.37569601),\n",
       " (493.4808621342144, 658.8290940122866, 39456094.5302616),\n",
       " (493.4771303915783, 658.8291566668383, 39542566.594159),\n",
       " (493.4808621342102, 658.8290940122852, 39629038.7487041),\n",
       " (493.4771303915811, 658.8291566668377, 39715510.812632486),\n",
       " (493.4808621342087, 658.8290940122848, 39801982.96721593),\n",
       " (493.4771303915801, 658.8291566668386, 39888455.03117433),\n",
       " (493.48086213420953, 658.8290940122857, 39974927.18577797),\n",
       " (493.4771303915785, 658.8291566668395, 40061399.24974479),\n",
       " (493.4808621342146, 658.8290940122853, 40147871.40434419),\n",
       " (493.4771303915767, 658.8291566668387, 40234343.46827352),\n",
       " (493.4808621342069, 658.8290940122861, 40320815.62282895),\n",
       " (493.4771303915861, 658.8291566668394, 40407287.68676363),\n",
       " (493.48086213420964, 658.829094012285, 40493759.84139128),\n",
       " (493.47713039157634, 658.8291566668389, 40580231.90538143),\n",
       " (493.48086213421567, 658.8290940122866, 40666704.05998002),\n",
       " (493.4771303915766, 658.8291566668385, 40753176.12389608),\n",
       " (493.48086213420873, 658.8290940122855, 40839648.27843096),\n",
       " (493.4771303915834, 658.8291566668386, 40926120.342358984),\n",
       " (493.48086213421044, 658.8290940122859, 41012592.49696183),\n",
       " (493.4771303915748, 658.8291566668389, 41099064.56092931),\n",
       " (493.48086213420976, 658.8290940122862, 41185536.715510316),\n",
       " (493.47713039158083, 658.8291566668379, 41272008.779428564),\n",
       " (493.48086213420896, 658.8290940122874, 41358480.93401725),\n",
       " (493.47713039158117, 658.8291566668379, 41444952.997969925),\n",
       " (493.48086213420777, 658.8290940122855, 41531425.15256369),\n",
       " (493.4771303915791, 658.8291566668387, 41617897.21654186),\n",
       " (493.48086213421504, 658.8290940122846, 41704369.3711492),\n",
       " (493.4771303915753, 658.8291566668394, 41790841.43508076),\n",
       " (493.4808621342115, 658.829094012286, 41877313.58962568),\n",
       " (493.477130391584, 658.8291566668381, 41963785.65353324),\n",
       " (493.4808621342062, 658.8290940122868, 42050257.80812012),\n",
       " (493.47713039157867, 658.8291566668371, 42136729.87210391),\n",
       " (493.4808621342138, 658.8290940122855, 42223202.02670993),\n",
       " (493.47713039157753, 658.8291566668383, 42309674.09064809),\n",
       " (493.48086213420873, 658.8290940122855, 42396146.24520768),\n",
       " (493.4771303915823, 658.8291566668383, 42482618.30914442),\n",
       " (493.48086213420777, 658.8290940122853, 42569090.463748224),\n",
       " (493.4771303915783, 658.8291566668379, 42655562.5277339),\n",
       " (493.48086213421567, 658.8290940122846, 42742034.68234524)]"
      ]
     },
     "execution_count": 39,
     "metadata": {},
     "output_type": "execute_result"
    }
   ],
   "source": [
    "# generate a pathline - returns tuples of (x, y, tau), where tau is travel time\n",
    "pl=pt.generatePathLine(500., 500.)\n",
    "pl"
   ]
  },
  {
   "cell_type": "markdown",
   "metadata": {},
   "source": [
    "Create a pathline swarm from an inflowing border:"
   ]
  },
  {
   "cell_type": "code",
   "execution_count": 41,
   "metadata": {},
   "outputs": [],
   "source": [
    "# get node numbers and coordinates\n",
    "df_selections = doc.c.sel.df.selections()\n",
    "df_nodes = doc.c.mesh.df.nodes()"
   ]
  },
  {
   "cell_type": "code",
   "execution_count": 42,
   "metadata": {},
   "outputs": [
    {
     "data": {
      "image/png": "[encoded data removed]",
      "text/plain": [
       "<Figure size 720x576 with 1 Axes>"
      ]
     },
     "metadata": {
      "needs_background": "light"
     },
     "output_type": "display_data"
    }
   ],
   "source": [
    "# create a plot\n",
    "fig, ax1 = plt.subplots(1, figsize=(10,8))\n",
    "ax1.axis(\"equal\")\n",
    "doc.c.plot.faces()\n",
    "doc.c.plot.isolines(par=ifm.Enum.P_HEAD)\n",
    "ax1.grid()\n",
    "ax1.set_ylabel(\"Y\")\n",
    "ax1.set_xlabel(\"X\")\n",
    "\n",
    "# add pathlines starting from the selection \"east\"\n",
    "for n in doc.c.sel.list(\"east\"):\n",
    "    pl=pt.generatePathLine(df_nodes.X[n], df_nodes.Y[n])\n",
    "    df_pl = pd.DataFrame(pl, columns=[\"X\", \"Y\", \"Tau\"])\n",
    "    plt.plot(df_pl.X, df_pl.Y, color=\"red\")\n",
    "    \n",
    "# for a FEFLOW style visualization, see https://matplotlib.org/3.1.1/gallery/lines_bars_and_markers/multicolored_line.html \n"
   ]
  }
 ],
 "metadata": {
  "hide_input": false,
  "kernelspec": {
   "display_name": "py36_dhi",
   "language": "python",
   "name": "py36_dhi"
  },
  "language_info": {
   "codemirror_mode": {
    "name": "ipython",
    "version": 3
   },
   "file_extension": ".py",
   "mimetype": "text/x-python",
   "name": "python",
   "nbconvert_exporter": "python",
   "pygments_lexer": "ipython3",
   "version": "3.6.10"
  },
  "toc": {
   "nav_menu": {},
   "number_sections": true,
   "sideBar": true,
   "skip_h1_title": true,
   "toc_cell": false,
   "toc_position": {},
   "toc_section_display": "block",
   "toc_window_display": false
  },
  "varInspector": {
   "cols": {
    "lenName": 16,
    "lenType": 16,
    "lenVar": 40
   },
   "kernels_config": {
    "python": {
     "delete_cmd_postfix": "",
     "delete_cmd_prefix": "del ",
     "library": "var_list.py",
     "varRefreshCmd": "print(var_dic_list())"
    },
    "r": {
     "delete_cmd_postfix": ") ",
     "delete_cmd_prefix": "rm(",
     "library": "var_list.r",
     "varRefreshCmd": "cat(var_dic_list()) "
    }
   },
   "types_to_exclude": [
    "module",
    "function",
    "builtin_function_or_method",
    "instance",
    "_Feature"
   ],
   "window_display": false
  }
 },
 "nbformat": 4,
 "nbformat_minor": 2
}
