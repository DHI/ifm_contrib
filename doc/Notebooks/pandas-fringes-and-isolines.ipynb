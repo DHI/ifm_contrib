{
 "cells": [
  {
   "cell_type": "markdown",
   "metadata": {},
   "source": [
    "# ifm_contrib: Plot - Pandas Extension\n",
    "\n",
    "GeoPANDAS is a Python library with powerfull features for 2D Geometry operations.\n",
    "The `doc.c.plot.gdf` object provides features to export plots similar to those in FEFLOW's View Components Panel to GeoPandas GeoDataFrames.\n",
    "\n",
    "*contact: [Alex Renz](https://github.com/red5alex), are@dhigroup.com* "
   ]
  },
  {
   "cell_type": "code",
   "execution_count": 1,
   "metadata": {
    "collapsed": true
   },
   "outputs": [],
   "source": [
    "import sys\n",
    "sys.path.append(\"C:/Program Files/DHI/2019/FEFLOW 7.2/python\")\n",
    "import ifm_contrib as ifm \n",
    "ifm.forceLicense(\"Viewer\")\n",
    "doc = ifm.loadDocument(\"./example_data/example_2D.dac\")"
   ]
  },
  {
   "cell_type": "code",
   "execution_count": 2,
   "metadata": {
    "collapsed": true,
    "run_control": {
     "marked": false
    }
   },
   "outputs": [],
   "source": [
    "import matplotlib.pyplot as plt\n",
    "%matplotlib inline"
   ]
  },
  {
   "cell_type": "markdown",
   "metadata": {},
   "source": [
    "`doc.c.plot.gdf.fringes()` and `doc.c.plot.gdf.isolines()` returns a GeoDataFrame with contents similar to a shp-file exported from FEFLOWs View Components Panel."
   ]
  },
  {
   "cell_type": "code",
   "execution_count": 3,
   "metadata": {},
   "outputs": [
    {
     "data": {
      "text/html": [
       "<div>\n",
       "<style scoped>\n",
       "    .dataframe tbody tr th:only-of-type {\n",
       "        vertical-align: middle;\n",
       "    }\n",
       "\n",
       "    .dataframe tbody tr th {\n",
       "        vertical-align: top;\n",
       "    }\n",
       "\n",
       "    .dataframe thead th {\n",
       "        text-align: right;\n",
       "    }\n",
       "</style>\n",
       "<table border=\"1\" class=\"dataframe\">\n",
       "  <thead>\n",
       "    <tr style=\"text-align: right;\">\n",
       "      <th></th>\n",
       "      <th>geometry</th>\n",
       "      <th>Head</th>\n",
       "    </tr>\n",
       "  </thead>\n",
       "  <tbody>\n",
       "    <tr>\n",
       "      <th>0</th>\n",
       "      <td>LINESTRING (236.5888496103675 1019.91124411664...</td>\n",
       "      <td>1.5</td>\n",
       "    </tr>\n",
       "    <tr>\n",
       "      <th>1</th>\n",
       "      <td>LINESTRING (352.927144759042 1008.370236739407...</td>\n",
       "      <td>3.0</td>\n",
       "    </tr>\n",
       "    <tr>\n",
       "      <th>2</th>\n",
       "      <td>LINESTRING (514.5702414974181 986.547317802377...</td>\n",
       "      <td>4.5</td>\n",
       "    </tr>\n",
       "    <tr>\n",
       "      <th>3</th>\n",
       "      <td>LINESTRING (701.7219922592226 951.101910461127...</td>\n",
       "      <td>6.0</td>\n",
       "    </tr>\n",
       "    <tr>\n",
       "      <th>4</th>\n",
       "      <td>LINESTRING (890.727423094163 812.132691716403,...</td>\n",
       "      <td>7.5</td>\n",
       "    </tr>\n",
       "    <tr>\n",
       "      <th>5</th>\n",
       "      <td>LINESTRING (954.0269519633994 708.662307987843...</td>\n",
       "      <td>9.0</td>\n",
       "    </tr>\n",
       "  </tbody>\n",
       "</table>\n",
       "</div>"
      ],
      "text/plain": [
       "                                            geometry  Head\n",
       "0  LINESTRING (236.5888496103675 1019.91124411664...   1.5\n",
       "1  LINESTRING (352.927144759042 1008.370236739407...   3.0\n",
       "2  LINESTRING (514.5702414974181 986.547317802377...   4.5\n",
       "3  LINESTRING (701.7219922592226 951.101910461127...   6.0\n",
       "4  LINESTRING (890.727423094163 812.132691716403,...   7.5\n",
       "5  LINESTRING (954.0269519633994 708.662307987843...   9.0"
      ]
     },
     "execution_count": 3,
     "metadata": {},
     "output_type": "execute_result"
    },
    {
     "data": {
      "text/plain": [
       "<Figure size 432x288 with 0 Axes>"
      ]
     },
     "metadata": {},
     "output_type": "display_data"
    }
   ],
   "source": [
    "# get isocontourlines of head as geodataframe \n",
    "gdf_isolines = doc.c.plot.gdf.isolines(\"Head\")\n",
    "gdf_isolines"
   ]
  },
  {
   "cell_type": "code",
   "execution_count": 4,
   "metadata": {},
   "outputs": [
    {
     "data": {
      "text/plain": [
       "<Figure size 432x288 with 0 Axes>"
      ]
     },
     "metadata": {},
     "output_type": "display_data"
    },
    {
     "data": {
      "image/png": "[encoded data removed]",
      "text/plain": [
       "<Figure size 432x288 with 1 Axes>"
      ]
     },
     "metadata": {},
     "output_type": "display_data"
    }
   ],
   "source": [
    "# get fringes polygons \n",
    "gdf_fringes = doc.c.plot.gdf.fringes(\"Head\")\n",
    "\n",
    "# plot alongside with isolines and labels\n",
    "fig, ax = plt.subplots(1,1)\n",
    "gdf_fringes.plot(\"Head_min\", ax=ax, cmap=\"rainbow\")\n",
    "gdf_isolines.plot(ax=ax, colors=\"black\")\n",
    "_ = gdf_isolines.apply(lambda x: ax.annotate(s=x.Head, \n",
    "                                         xy=x.geometry.representative_point().coords[0], \n",
    "                                         ha='right', \n",
    "                                         color=\"black\"),\n",
    "                   axis=1)"
   ]
  }
 ],
 "metadata": {
  "hide_input": false,
  "kernelspec": {
   "display_name": "Python 2.7",
   "language": "python",
   "name": "python_27"
  },
  "language_info": {
   "codemirror_mode": {
    "name": "ipython",
    "version": 2
   },
   "file_extension": ".py",
   "mimetype": "text/x-python",
   "name": "python",
   "nbconvert_exporter": "python",
   "pygments_lexer": "ipython2",
   "version": "2.7.14"
  },
  "toc": {
   "nav_menu": {},
   "number_sections": true,
   "sideBar": true,
   "skip_h1_title": true,
   "toc_cell": false,
   "toc_position": {},
   "toc_section_display": "block",
   "toc_window_display": false
  },
  "varInspector": {
   "cols": {
    "lenName": 16,
    "lenType": 16,
    "lenVar": 40
   },
   "kernels_config": {
    "python": {
     "delete_cmd_postfix": "",
     "delete_cmd_prefix": "del ",
     "library": "var_list.py",
     "varRefreshCmd": "print(var_dic_list())"
    },
    "r": {
     "delete_cmd_postfix": ") ",
     "delete_cmd_prefix": "rm(",
     "library": "var_list.r",
     "varRefreshCmd": "cat(var_dic_list()) "
    }
   },
   "types_to_exclude": [
    "module",
    "function",
    "builtin_function_or_method",
    "instance",
    "_Feature"
   ],
   "window_display": false
  }
 },
 "nbformat": 4,
 "nbformat_minor": 2
}
